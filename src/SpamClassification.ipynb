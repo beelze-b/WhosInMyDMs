{
 "cells": [
  {
   "cell_type": "code",
   "execution_count": 1,
   "metadata": {},
   "outputs": [],
   "source": [
    "import pandas as pd\n",
    "import numpy as np\n",
    "import random\n",
    "\n",
    "from sklearn import preprocessing\n",
    "from sklearn.feature_extraction.text import CountVectorizer, TfidfVectorizer\n",
    "from sklearn.metrics import roc_curve, auc\n",
    "\n",
    "from sklearn.linear_model import LogisticRegression"
   ]
  },
  {
   "cell_type": "code",
   "execution_count": 2,
   "metadata": {},
   "outputs": [],
   "source": [
    "data = pd.read_csv('../data/SMSSpamCollection', sep='\\t', header=None)\n",
    "data['Text'] = data[1].str.replace('[^\\w\\s]','')\n",
    "data.columns = ['label', 'Full Text', 'Text']\n",
    "data['Lower Case Text'] = data['Text'].str.lower()"
   ]
  },
  {
   "cell_type": "code",
   "execution_count": 3,
   "metadata": {},
   "outputs": [
    {
     "data": {
      "text/html": [
       "<div>\n",
       "<style scoped>\n",
       "    .dataframe tbody tr th:only-of-type {\n",
       "        vertical-align: middle;\n",
       "    }\n",
       "\n",
       "    .dataframe tbody tr th {\n",
       "        vertical-align: top;\n",
       "    }\n",
       "\n",
       "    .dataframe thead th {\n",
       "        text-align: right;\n",
       "    }\n",
       "</style>\n",
       "<table border=\"1\" class=\"dataframe\">\n",
       "  <thead>\n",
       "    <tr style=\"text-align: right;\">\n",
       "      <th></th>\n",
       "      <th>label</th>\n",
       "      <th>Full Text</th>\n",
       "      <th>Text</th>\n",
       "      <th>Lower Case Text</th>\n",
       "    </tr>\n",
       "  </thead>\n",
       "  <tbody>\n",
       "    <tr>\n",
       "      <th>0</th>\n",
       "      <td>ham</td>\n",
       "      <td>Go until jurong point, crazy.. Available only ...</td>\n",
       "      <td>Go until jurong point crazy Available only in ...</td>\n",
       "      <td>go until jurong point crazy available only in ...</td>\n",
       "    </tr>\n",
       "    <tr>\n",
       "      <th>1</th>\n",
       "      <td>ham</td>\n",
       "      <td>Ok lar... Joking wif u oni...</td>\n",
       "      <td>Ok lar Joking wif u oni</td>\n",
       "      <td>ok lar joking wif u oni</td>\n",
       "    </tr>\n",
       "    <tr>\n",
       "      <th>2</th>\n",
       "      <td>spam</td>\n",
       "      <td>Free entry in 2 a wkly comp to win FA Cup fina...</td>\n",
       "      <td>Free entry in 2 a wkly comp to win FA Cup fina...</td>\n",
       "      <td>free entry in 2 a wkly comp to win fa cup fina...</td>\n",
       "    </tr>\n",
       "    <tr>\n",
       "      <th>3</th>\n",
       "      <td>ham</td>\n",
       "      <td>U dun say so early hor... U c already then say...</td>\n",
       "      <td>U dun say so early hor U c already then say</td>\n",
       "      <td>u dun say so early hor u c already then say</td>\n",
       "    </tr>\n",
       "    <tr>\n",
       "      <th>4</th>\n",
       "      <td>ham</td>\n",
       "      <td>Nah I don't think he goes to usf, he lives aro...</td>\n",
       "      <td>Nah I dont think he goes to usf he lives aroun...</td>\n",
       "      <td>nah i dont think he goes to usf he lives aroun...</td>\n",
       "    </tr>\n",
       "    <tr>\n",
       "      <th>5</th>\n",
       "      <td>spam</td>\n",
       "      <td>FreeMsg Hey there darling it's been 3 week's n...</td>\n",
       "      <td>FreeMsg Hey there darling its been 3 weeks now...</td>\n",
       "      <td>freemsg hey there darling its been 3 weeks now...</td>\n",
       "    </tr>\n",
       "    <tr>\n",
       "      <th>6</th>\n",
       "      <td>ham</td>\n",
       "      <td>Even my brother is not like to speak with me. ...</td>\n",
       "      <td>Even my brother is not like to speak with me T...</td>\n",
       "      <td>even my brother is not like to speak with me t...</td>\n",
       "    </tr>\n",
       "    <tr>\n",
       "      <th>7</th>\n",
       "      <td>ham</td>\n",
       "      <td>As per your request 'Melle Melle (Oru Minnamin...</td>\n",
       "      <td>As per your request Melle Melle Oru Minnaminun...</td>\n",
       "      <td>as per your request melle melle oru minnaminun...</td>\n",
       "    </tr>\n",
       "    <tr>\n",
       "      <th>8</th>\n",
       "      <td>spam</td>\n",
       "      <td>WINNER!! As a valued network customer you have...</td>\n",
       "      <td>WINNER As a valued network customer you have b...</td>\n",
       "      <td>winner as a valued network customer you have b...</td>\n",
       "    </tr>\n",
       "    <tr>\n",
       "      <th>9</th>\n",
       "      <td>spam</td>\n",
       "      <td>Had your mobile 11 months or more? U R entitle...</td>\n",
       "      <td>Had your mobile 11 months or more U R entitled...</td>\n",
       "      <td>had your mobile 11 months or more u r entitled...</td>\n",
       "    </tr>\n",
       "    <tr>\n",
       "      <th>10</th>\n",
       "      <td>ham</td>\n",
       "      <td>I'm gonna be home soon and i don't want to tal...</td>\n",
       "      <td>Im gonna be home soon and i dont want to talk ...</td>\n",
       "      <td>im gonna be home soon and i dont want to talk ...</td>\n",
       "    </tr>\n",
       "    <tr>\n",
       "      <th>11</th>\n",
       "      <td>spam</td>\n",
       "      <td>SIX chances to win CASH! From 100 to 20,000 po...</td>\n",
       "      <td>SIX chances to win CASH From 100 to 20000 poun...</td>\n",
       "      <td>six chances to win cash from 100 to 20000 poun...</td>\n",
       "    </tr>\n",
       "    <tr>\n",
       "      <th>12</th>\n",
       "      <td>spam</td>\n",
       "      <td>URGENT! You have won a 1 week FREE membership ...</td>\n",
       "      <td>URGENT You have won a 1 week FREE membership i...</td>\n",
       "      <td>urgent you have won a 1 week free membership i...</td>\n",
       "    </tr>\n",
       "    <tr>\n",
       "      <th>13</th>\n",
       "      <td>ham</td>\n",
       "      <td>I've been searching for the right words to tha...</td>\n",
       "      <td>Ive been searching for the right words to than...</td>\n",
       "      <td>ive been searching for the right words to than...</td>\n",
       "    </tr>\n",
       "    <tr>\n",
       "      <th>14</th>\n",
       "      <td>ham</td>\n",
       "      <td>I HAVE A DATE ON SUNDAY WITH WILL!!</td>\n",
       "      <td>I HAVE A DATE ON SUNDAY WITH WILL</td>\n",
       "      <td>i have a date on sunday with will</td>\n",
       "    </tr>\n",
       "    <tr>\n",
       "      <th>15</th>\n",
       "      <td>spam</td>\n",
       "      <td>XXXMobileMovieClub: To use your credit, click ...</td>\n",
       "      <td>XXXMobileMovieClub To use your credit click th...</td>\n",
       "      <td>xxxmobilemovieclub to use your credit click th...</td>\n",
       "    </tr>\n",
       "    <tr>\n",
       "      <th>16</th>\n",
       "      <td>ham</td>\n",
       "      <td>Oh k...i'm watching here:)</td>\n",
       "      <td>Oh kim watching here</td>\n",
       "      <td>oh kim watching here</td>\n",
       "    </tr>\n",
       "    <tr>\n",
       "      <th>17</th>\n",
       "      <td>ham</td>\n",
       "      <td>Eh u remember how 2 spell his name... Yes i di...</td>\n",
       "      <td>Eh u remember how 2 spell his name Yes i did H...</td>\n",
       "      <td>eh u remember how 2 spell his name yes i did h...</td>\n",
       "    </tr>\n",
       "    <tr>\n",
       "      <th>18</th>\n",
       "      <td>ham</td>\n",
       "      <td>Fine if thats the way u feel. Thats the way ...</td>\n",
       "      <td>Fine if thats the way u feel Thats the way its...</td>\n",
       "      <td>fine if thats the way u feel thats the way its...</td>\n",
       "    </tr>\n",
       "    <tr>\n",
       "      <th>19</th>\n",
       "      <td>spam</td>\n",
       "      <td>England v Macedonia - dont miss the goals/team...</td>\n",
       "      <td>England v Macedonia  dont miss the goalsteam n...</td>\n",
       "      <td>england v macedonia  dont miss the goalsteam n...</td>\n",
       "    </tr>\n",
       "    <tr>\n",
       "      <th>20</th>\n",
       "      <td>ham</td>\n",
       "      <td>Is that seriously how you spell his name?</td>\n",
       "      <td>Is that seriously how you spell his name</td>\n",
       "      <td>is that seriously how you spell his name</td>\n",
       "    </tr>\n",
       "    <tr>\n",
       "      <th>21</th>\n",
       "      <td>ham</td>\n",
       "      <td>I‘m going to try for 2 months ha ha only joking</td>\n",
       "      <td>Im going to try for 2 months ha ha only joking</td>\n",
       "      <td>im going to try for 2 months ha ha only joking</td>\n",
       "    </tr>\n",
       "    <tr>\n",
       "      <th>22</th>\n",
       "      <td>ham</td>\n",
       "      <td>So ü pay first lar... Then when is da stock co...</td>\n",
       "      <td>So ü pay first lar Then when is da stock comin</td>\n",
       "      <td>so ü pay first lar then when is da stock comin</td>\n",
       "    </tr>\n",
       "    <tr>\n",
       "      <th>23</th>\n",
       "      <td>ham</td>\n",
       "      <td>Aft i finish my lunch then i go str down lor. ...</td>\n",
       "      <td>Aft i finish my lunch then i go str down lor A...</td>\n",
       "      <td>aft i finish my lunch then i go str down lor a...</td>\n",
       "    </tr>\n",
       "    <tr>\n",
       "      <th>24</th>\n",
       "      <td>ham</td>\n",
       "      <td>Ffffffffff. Alright no way I can meet up with ...</td>\n",
       "      <td>Ffffffffff Alright no way I can meet up with y...</td>\n",
       "      <td>ffffffffff alright no way i can meet up with y...</td>\n",
       "    </tr>\n",
       "    <tr>\n",
       "      <th>25</th>\n",
       "      <td>ham</td>\n",
       "      <td>Just forced myself to eat a slice. I'm really ...</td>\n",
       "      <td>Just forced myself to eat a slice Im really no...</td>\n",
       "      <td>just forced myself to eat a slice im really no...</td>\n",
       "    </tr>\n",
       "    <tr>\n",
       "      <th>26</th>\n",
       "      <td>ham</td>\n",
       "      <td>Lol your always so convincing.</td>\n",
       "      <td>Lol your always so convincing</td>\n",
       "      <td>lol your always so convincing</td>\n",
       "    </tr>\n",
       "    <tr>\n",
       "      <th>27</th>\n",
       "      <td>ham</td>\n",
       "      <td>Did you catch the bus ? Are you frying an egg ...</td>\n",
       "      <td>Did you catch the bus  Are you frying an egg  ...</td>\n",
       "      <td>did you catch the bus  are you frying an egg  ...</td>\n",
       "    </tr>\n",
       "    <tr>\n",
       "      <th>28</th>\n",
       "      <td>ham</td>\n",
       "      <td>I'm back &amp;amp; we're packing the car now, I'll...</td>\n",
       "      <td>Im back amp were packing the car now Ill let y...</td>\n",
       "      <td>im back amp were packing the car now ill let y...</td>\n",
       "    </tr>\n",
       "    <tr>\n",
       "      <th>29</th>\n",
       "      <td>ham</td>\n",
       "      <td>Ahhh. Work. I vaguely remember that! What does...</td>\n",
       "      <td>Ahhh Work I vaguely remember that What does it...</td>\n",
       "      <td>ahhh work i vaguely remember that what does it...</td>\n",
       "    </tr>\n",
       "    <tr>\n",
       "      <th>...</th>\n",
       "      <td>...</td>\n",
       "      <td>...</td>\n",
       "      <td>...</td>\n",
       "      <td>...</td>\n",
       "    </tr>\n",
       "    <tr>\n",
       "      <th>5542</th>\n",
       "      <td>ham</td>\n",
       "      <td>Armand says get your ass over to epsilon</td>\n",
       "      <td>Armand says get your ass over to epsilon</td>\n",
       "      <td>armand says get your ass over to epsilon</td>\n",
       "    </tr>\n",
       "    <tr>\n",
       "      <th>5543</th>\n",
       "      <td>ham</td>\n",
       "      <td>U still havent got urself a jacket ah?</td>\n",
       "      <td>U still havent got urself a jacket ah</td>\n",
       "      <td>u still havent got urself a jacket ah</td>\n",
       "    </tr>\n",
       "    <tr>\n",
       "      <th>5544</th>\n",
       "      <td>ham</td>\n",
       "      <td>I'm taking derek &amp;amp; taylor to walmart, if I...</td>\n",
       "      <td>Im taking derek amp taylor to walmart if Im no...</td>\n",
       "      <td>im taking derek amp taylor to walmart if im no...</td>\n",
       "    </tr>\n",
       "    <tr>\n",
       "      <th>5545</th>\n",
       "      <td>ham</td>\n",
       "      <td>Hi its in durban are you still on this number</td>\n",
       "      <td>Hi its in durban are you still on this number</td>\n",
       "      <td>hi its in durban are you still on this number</td>\n",
       "    </tr>\n",
       "    <tr>\n",
       "      <th>5546</th>\n",
       "      <td>ham</td>\n",
       "      <td>Ic. There are a lotta childporn cars then.</td>\n",
       "      <td>Ic There are a lotta childporn cars then</td>\n",
       "      <td>ic there are a lotta childporn cars then</td>\n",
       "    </tr>\n",
       "    <tr>\n",
       "      <th>5547</th>\n",
       "      <td>spam</td>\n",
       "      <td>Had your contract mobile 11 Mnths? Latest Moto...</td>\n",
       "      <td>Had your contract mobile 11 Mnths Latest Motor...</td>\n",
       "      <td>had your contract mobile 11 mnths latest motor...</td>\n",
       "    </tr>\n",
       "    <tr>\n",
       "      <th>5548</th>\n",
       "      <td>ham</td>\n",
       "      <td>No, I was trying it all weekend ;V</td>\n",
       "      <td>No I was trying it all weekend V</td>\n",
       "      <td>no i was trying it all weekend v</td>\n",
       "    </tr>\n",
       "    <tr>\n",
       "      <th>5549</th>\n",
       "      <td>ham</td>\n",
       "      <td>You know, wot people wear. T shirts, jumpers, ...</td>\n",
       "      <td>You know wot people wear T shirts jumpers hat ...</td>\n",
       "      <td>you know wot people wear t shirts jumpers hat ...</td>\n",
       "    </tr>\n",
       "    <tr>\n",
       "      <th>5550</th>\n",
       "      <td>ham</td>\n",
       "      <td>Cool, what time you think you can get here?</td>\n",
       "      <td>Cool what time you think you can get here</td>\n",
       "      <td>cool what time you think you can get here</td>\n",
       "    </tr>\n",
       "    <tr>\n",
       "      <th>5551</th>\n",
       "      <td>ham</td>\n",
       "      <td>Wen did you get so spiritual and deep. That's ...</td>\n",
       "      <td>Wen did you get so spiritual and deep Thats great</td>\n",
       "      <td>wen did you get so spiritual and deep thats great</td>\n",
       "    </tr>\n",
       "    <tr>\n",
       "      <th>5552</th>\n",
       "      <td>ham</td>\n",
       "      <td>Have a safe trip to Nigeria. Wish you happines...</td>\n",
       "      <td>Have a safe trip to Nigeria Wish you happiness...</td>\n",
       "      <td>have a safe trip to nigeria wish you happiness...</td>\n",
       "    </tr>\n",
       "    <tr>\n",
       "      <th>5553</th>\n",
       "      <td>ham</td>\n",
       "      <td>Hahaha..use your brain dear</td>\n",
       "      <td>Hahahause your brain dear</td>\n",
       "      <td>hahahause your brain dear</td>\n",
       "    </tr>\n",
       "    <tr>\n",
       "      <th>5554</th>\n",
       "      <td>ham</td>\n",
       "      <td>Well keep in mind I've only got enough gas for...</td>\n",
       "      <td>Well keep in mind Ive only got enough gas for ...</td>\n",
       "      <td>well keep in mind ive only got enough gas for ...</td>\n",
       "    </tr>\n",
       "    <tr>\n",
       "      <th>5555</th>\n",
       "      <td>ham</td>\n",
       "      <td>Yeh. Indians was nice. Tho it did kane me off ...</td>\n",
       "      <td>Yeh Indians was nice Tho it did kane me off a ...</td>\n",
       "      <td>yeh indians was nice tho it did kane me off a ...</td>\n",
       "    </tr>\n",
       "    <tr>\n",
       "      <th>5556</th>\n",
       "      <td>ham</td>\n",
       "      <td>Yes i have. So that's why u texted. Pshew...mi...</td>\n",
       "      <td>Yes i have So thats why u texted Pshewmissing ...</td>\n",
       "      <td>yes i have so thats why u texted pshewmissing ...</td>\n",
       "    </tr>\n",
       "    <tr>\n",
       "      <th>5557</th>\n",
       "      <td>ham</td>\n",
       "      <td>No. I meant the calculation is the same. That ...</td>\n",
       "      <td>No I meant the calculation is the same That  l...</td>\n",
       "      <td>no i meant the calculation is the same that  l...</td>\n",
       "    </tr>\n",
       "    <tr>\n",
       "      <th>5558</th>\n",
       "      <td>ham</td>\n",
       "      <td>Sorry, I'll call later</td>\n",
       "      <td>Sorry Ill call later</td>\n",
       "      <td>sorry ill call later</td>\n",
       "    </tr>\n",
       "    <tr>\n",
       "      <th>5559</th>\n",
       "      <td>ham</td>\n",
       "      <td>if you aren't here in the next  &amp;lt;#&amp;gt;  hou...</td>\n",
       "      <td>if you arent here in the next  ltgt  hours imm...</td>\n",
       "      <td>if you arent here in the next  ltgt  hours imm...</td>\n",
       "    </tr>\n",
       "    <tr>\n",
       "      <th>5560</th>\n",
       "      <td>ham</td>\n",
       "      <td>Anything lor. Juz both of us lor.</td>\n",
       "      <td>Anything lor Juz both of us lor</td>\n",
       "      <td>anything lor juz both of us lor</td>\n",
       "    </tr>\n",
       "    <tr>\n",
       "      <th>5561</th>\n",
       "      <td>ham</td>\n",
       "      <td>Get me out of this dump heap. My mom decided t...</td>\n",
       "      <td>Get me out of this dump heap My mom decided to...</td>\n",
       "      <td>get me out of this dump heap my mom decided to...</td>\n",
       "    </tr>\n",
       "    <tr>\n",
       "      <th>5562</th>\n",
       "      <td>ham</td>\n",
       "      <td>Ok lor... Sony ericsson salesman... I ask shuh...</td>\n",
       "      <td>Ok lor Sony ericsson salesman I ask shuhui the...</td>\n",
       "      <td>ok lor sony ericsson salesman i ask shuhui the...</td>\n",
       "    </tr>\n",
       "    <tr>\n",
       "      <th>5563</th>\n",
       "      <td>ham</td>\n",
       "      <td>Ard 6 like dat lor.</td>\n",
       "      <td>Ard 6 like dat lor</td>\n",
       "      <td>ard 6 like dat lor</td>\n",
       "    </tr>\n",
       "    <tr>\n",
       "      <th>5564</th>\n",
       "      <td>ham</td>\n",
       "      <td>Why don't you wait 'til at least wednesday to ...</td>\n",
       "      <td>Why dont you wait til at least wednesday to se...</td>\n",
       "      <td>why dont you wait til at least wednesday to se...</td>\n",
       "    </tr>\n",
       "    <tr>\n",
       "      <th>5565</th>\n",
       "      <td>ham</td>\n",
       "      <td>Huh y lei...</td>\n",
       "      <td>Huh y lei</td>\n",
       "      <td>huh y lei</td>\n",
       "    </tr>\n",
       "    <tr>\n",
       "      <th>5566</th>\n",
       "      <td>spam</td>\n",
       "      <td>REMINDER FROM O2: To get 2.50 pounds free call...</td>\n",
       "      <td>REMINDER FROM O2 To get 250 pounds free call c...</td>\n",
       "      <td>reminder from o2 to get 250 pounds free call c...</td>\n",
       "    </tr>\n",
       "    <tr>\n",
       "      <th>5567</th>\n",
       "      <td>spam</td>\n",
       "      <td>This is the 2nd time we have tried 2 contact u...</td>\n",
       "      <td>This is the 2nd time we have tried 2 contact u...</td>\n",
       "      <td>this is the 2nd time we have tried 2 contact u...</td>\n",
       "    </tr>\n",
       "    <tr>\n",
       "      <th>5568</th>\n",
       "      <td>ham</td>\n",
       "      <td>Will ü b going to esplanade fr home?</td>\n",
       "      <td>Will ü b going to esplanade fr home</td>\n",
       "      <td>will ü b going to esplanade fr home</td>\n",
       "    </tr>\n",
       "    <tr>\n",
       "      <th>5569</th>\n",
       "      <td>ham</td>\n",
       "      <td>Pity, * was in mood for that. So...any other s...</td>\n",
       "      <td>Pity  was in mood for that Soany other suggest...</td>\n",
       "      <td>pity  was in mood for that soany other suggest...</td>\n",
       "    </tr>\n",
       "    <tr>\n",
       "      <th>5570</th>\n",
       "      <td>ham</td>\n",
       "      <td>The guy did some bitching but I acted like i'd...</td>\n",
       "      <td>The guy did some bitching but I acted like id ...</td>\n",
       "      <td>the guy did some bitching but i acted like id ...</td>\n",
       "    </tr>\n",
       "    <tr>\n",
       "      <th>5571</th>\n",
       "      <td>ham</td>\n",
       "      <td>Rofl. Its true to its name</td>\n",
       "      <td>Rofl Its true to its name</td>\n",
       "      <td>rofl its true to its name</td>\n",
       "    </tr>\n",
       "  </tbody>\n",
       "</table>\n",
       "<p>5572 rows × 4 columns</p>\n",
       "</div>"
      ],
      "text/plain": [
       "     label                                          Full Text  \\\n",
       "0      ham  Go until jurong point, crazy.. Available only ...   \n",
       "1      ham                      Ok lar... Joking wif u oni...   \n",
       "2     spam  Free entry in 2 a wkly comp to win FA Cup fina...   \n",
       "3      ham  U dun say so early hor... U c already then say...   \n",
       "4      ham  Nah I don't think he goes to usf, he lives aro...   \n",
       "5     spam  FreeMsg Hey there darling it's been 3 week's n...   \n",
       "6      ham  Even my brother is not like to speak with me. ...   \n",
       "7      ham  As per your request 'Melle Melle (Oru Minnamin...   \n",
       "8     spam  WINNER!! As a valued network customer you have...   \n",
       "9     spam  Had your mobile 11 months or more? U R entitle...   \n",
       "10     ham  I'm gonna be home soon and i don't want to tal...   \n",
       "11    spam  SIX chances to win CASH! From 100 to 20,000 po...   \n",
       "12    spam  URGENT! You have won a 1 week FREE membership ...   \n",
       "13     ham  I've been searching for the right words to tha...   \n",
       "14     ham                I HAVE A DATE ON SUNDAY WITH WILL!!   \n",
       "15    spam  XXXMobileMovieClub: To use your credit, click ...   \n",
       "16     ham                         Oh k...i'm watching here:)   \n",
       "17     ham  Eh u remember how 2 spell his name... Yes i di...   \n",
       "18     ham  Fine if thats the way u feel. Thats the way ...   \n",
       "19    spam  England v Macedonia - dont miss the goals/team...   \n",
       "20     ham          Is that seriously how you spell his name?   \n",
       "21     ham    I‘m going to try for 2 months ha ha only joking   \n",
       "22     ham  So ü pay first lar... Then when is da stock co...   \n",
       "23     ham  Aft i finish my lunch then i go str down lor. ...   \n",
       "24     ham  Ffffffffff. Alright no way I can meet up with ...   \n",
       "25     ham  Just forced myself to eat a slice. I'm really ...   \n",
       "26     ham                     Lol your always so convincing.   \n",
       "27     ham  Did you catch the bus ? Are you frying an egg ...   \n",
       "28     ham  I'm back &amp; we're packing the car now, I'll...   \n",
       "29     ham  Ahhh. Work. I vaguely remember that! What does...   \n",
       "...    ...                                                ...   \n",
       "5542   ham           Armand says get your ass over to epsilon   \n",
       "5543   ham             U still havent got urself a jacket ah?   \n",
       "5544   ham  I'm taking derek &amp; taylor to walmart, if I...   \n",
       "5545   ham      Hi its in durban are you still on this number   \n",
       "5546   ham         Ic. There are a lotta childporn cars then.   \n",
       "5547  spam  Had your contract mobile 11 Mnths? Latest Moto...   \n",
       "5548   ham                 No, I was trying it all weekend ;V   \n",
       "5549   ham  You know, wot people wear. T shirts, jumpers, ...   \n",
       "5550   ham        Cool, what time you think you can get here?   \n",
       "5551   ham  Wen did you get so spiritual and deep. That's ...   \n",
       "5552   ham  Have a safe trip to Nigeria. Wish you happines...   \n",
       "5553   ham                        Hahaha..use your brain dear   \n",
       "5554   ham  Well keep in mind I've only got enough gas for...   \n",
       "5555   ham  Yeh. Indians was nice. Tho it did kane me off ...   \n",
       "5556   ham  Yes i have. So that's why u texted. Pshew...mi...   \n",
       "5557   ham  No. I meant the calculation is the same. That ...   \n",
       "5558   ham                             Sorry, I'll call later   \n",
       "5559   ham  if you aren't here in the next  &lt;#&gt;  hou...   \n",
       "5560   ham                  Anything lor. Juz both of us lor.   \n",
       "5561   ham  Get me out of this dump heap. My mom decided t...   \n",
       "5562   ham  Ok lor... Sony ericsson salesman... I ask shuh...   \n",
       "5563   ham                                Ard 6 like dat lor.   \n",
       "5564   ham  Why don't you wait 'til at least wednesday to ...   \n",
       "5565   ham                                       Huh y lei...   \n",
       "5566  spam  REMINDER FROM O2: To get 2.50 pounds free call...   \n",
       "5567  spam  This is the 2nd time we have tried 2 contact u...   \n",
       "5568   ham               Will ü b going to esplanade fr home?   \n",
       "5569   ham  Pity, * was in mood for that. So...any other s...   \n",
       "5570   ham  The guy did some bitching but I acted like i'd...   \n",
       "5571   ham                         Rofl. Its true to its name   \n",
       "\n",
       "                                                   Text  \\\n",
       "0     Go until jurong point crazy Available only in ...   \n",
       "1                               Ok lar Joking wif u oni   \n",
       "2     Free entry in 2 a wkly comp to win FA Cup fina...   \n",
       "3           U dun say so early hor U c already then say   \n",
       "4     Nah I dont think he goes to usf he lives aroun...   \n",
       "5     FreeMsg Hey there darling its been 3 weeks now...   \n",
       "6     Even my brother is not like to speak with me T...   \n",
       "7     As per your request Melle Melle Oru Minnaminun...   \n",
       "8     WINNER As a valued network customer you have b...   \n",
       "9     Had your mobile 11 months or more U R entitled...   \n",
       "10    Im gonna be home soon and i dont want to talk ...   \n",
       "11    SIX chances to win CASH From 100 to 20000 poun...   \n",
       "12    URGENT You have won a 1 week FREE membership i...   \n",
       "13    Ive been searching for the right words to than...   \n",
       "14                    I HAVE A DATE ON SUNDAY WITH WILL   \n",
       "15    XXXMobileMovieClub To use your credit click th...   \n",
       "16                                 Oh kim watching here   \n",
       "17    Eh u remember how 2 spell his name Yes i did H...   \n",
       "18    Fine if thats the way u feel Thats the way its...   \n",
       "19    England v Macedonia  dont miss the goalsteam n...   \n",
       "20             Is that seriously how you spell his name   \n",
       "21       Im going to try for 2 months ha ha only joking   \n",
       "22       So ü pay first lar Then when is da stock comin   \n",
       "23    Aft i finish my lunch then i go str down lor A...   \n",
       "24    Ffffffffff Alright no way I can meet up with y...   \n",
       "25    Just forced myself to eat a slice Im really no...   \n",
       "26                        Lol your always so convincing   \n",
       "27    Did you catch the bus  Are you frying an egg  ...   \n",
       "28    Im back amp were packing the car now Ill let y...   \n",
       "29    Ahhh Work I vaguely remember that What does it...   \n",
       "...                                                 ...   \n",
       "5542           Armand says get your ass over to epsilon   \n",
       "5543              U still havent got urself a jacket ah   \n",
       "5544  Im taking derek amp taylor to walmart if Im no...   \n",
       "5545      Hi its in durban are you still on this number   \n",
       "5546           Ic There are a lotta childporn cars then   \n",
       "5547  Had your contract mobile 11 Mnths Latest Motor...   \n",
       "5548                   No I was trying it all weekend V   \n",
       "5549  You know wot people wear T shirts jumpers hat ...   \n",
       "5550          Cool what time you think you can get here   \n",
       "5551  Wen did you get so spiritual and deep Thats great   \n",
       "5552  Have a safe trip to Nigeria Wish you happiness...   \n",
       "5553                          Hahahause your brain dear   \n",
       "5554  Well keep in mind Ive only got enough gas for ...   \n",
       "5555  Yeh Indians was nice Tho it did kane me off a ...   \n",
       "5556  Yes i have So thats why u texted Pshewmissing ...   \n",
       "5557  No I meant the calculation is the same That  l...   \n",
       "5558                               Sorry Ill call later   \n",
       "5559  if you arent here in the next  ltgt  hours imm...   \n",
       "5560                    Anything lor Juz both of us lor   \n",
       "5561  Get me out of this dump heap My mom decided to...   \n",
       "5562  Ok lor Sony ericsson salesman I ask shuhui the...   \n",
       "5563                                 Ard 6 like dat lor   \n",
       "5564  Why dont you wait til at least wednesday to se...   \n",
       "5565                                          Huh y lei   \n",
       "5566  REMINDER FROM O2 To get 250 pounds free call c...   \n",
       "5567  This is the 2nd time we have tried 2 contact u...   \n",
       "5568                Will ü b going to esplanade fr home   \n",
       "5569  Pity  was in mood for that Soany other suggest...   \n",
       "5570  The guy did some bitching but I acted like id ...   \n",
       "5571                          Rofl Its true to its name   \n",
       "\n",
       "                                        Lower Case Text  \n",
       "0     go until jurong point crazy available only in ...  \n",
       "1                               ok lar joking wif u oni  \n",
       "2     free entry in 2 a wkly comp to win fa cup fina...  \n",
       "3           u dun say so early hor u c already then say  \n",
       "4     nah i dont think he goes to usf he lives aroun...  \n",
       "5     freemsg hey there darling its been 3 weeks now...  \n",
       "6     even my brother is not like to speak with me t...  \n",
       "7     as per your request melle melle oru minnaminun...  \n",
       "8     winner as a valued network customer you have b...  \n",
       "9     had your mobile 11 months or more u r entitled...  \n",
       "10    im gonna be home soon and i dont want to talk ...  \n",
       "11    six chances to win cash from 100 to 20000 poun...  \n",
       "12    urgent you have won a 1 week free membership i...  \n",
       "13    ive been searching for the right words to than...  \n",
       "14                    i have a date on sunday with will  \n",
       "15    xxxmobilemovieclub to use your credit click th...  \n",
       "16                                 oh kim watching here  \n",
       "17    eh u remember how 2 spell his name yes i did h...  \n",
       "18    fine if thats the way u feel thats the way its...  \n",
       "19    england v macedonia  dont miss the goalsteam n...  \n",
       "20             is that seriously how you spell his name  \n",
       "21       im going to try for 2 months ha ha only joking  \n",
       "22       so ü pay first lar then when is da stock comin  \n",
       "23    aft i finish my lunch then i go str down lor a...  \n",
       "24    ffffffffff alright no way i can meet up with y...  \n",
       "25    just forced myself to eat a slice im really no...  \n",
       "26                        lol your always so convincing  \n",
       "27    did you catch the bus  are you frying an egg  ...  \n",
       "28    im back amp were packing the car now ill let y...  \n",
       "29    ahhh work i vaguely remember that what does it...  \n",
       "...                                                 ...  \n",
       "5542           armand says get your ass over to epsilon  \n",
       "5543              u still havent got urself a jacket ah  \n",
       "5544  im taking derek amp taylor to walmart if im no...  \n",
       "5545      hi its in durban are you still on this number  \n",
       "5546           ic there are a lotta childporn cars then  \n",
       "5547  had your contract mobile 11 mnths latest motor...  \n",
       "5548                   no i was trying it all weekend v  \n",
       "5549  you know wot people wear t shirts jumpers hat ...  \n",
       "5550          cool what time you think you can get here  \n",
       "5551  wen did you get so spiritual and deep thats great  \n",
       "5552  have a safe trip to nigeria wish you happiness...  \n",
       "5553                          hahahause your brain dear  \n",
       "5554  well keep in mind ive only got enough gas for ...  \n",
       "5555  yeh indians was nice tho it did kane me off a ...  \n",
       "5556  yes i have so thats why u texted pshewmissing ...  \n",
       "5557  no i meant the calculation is the same that  l...  \n",
       "5558                               sorry ill call later  \n",
       "5559  if you arent here in the next  ltgt  hours imm...  \n",
       "5560                    anything lor juz both of us lor  \n",
       "5561  get me out of this dump heap my mom decided to...  \n",
       "5562  ok lor sony ericsson salesman i ask shuhui the...  \n",
       "5563                                 ard 6 like dat lor  \n",
       "5564  why dont you wait til at least wednesday to se...  \n",
       "5565                                          huh y lei  \n",
       "5566  reminder from o2 to get 250 pounds free call c...  \n",
       "5567  this is the 2nd time we have tried 2 contact u...  \n",
       "5568                will ü b going to esplanade fr home  \n",
       "5569  pity  was in mood for that soany other suggest...  \n",
       "5570  the guy did some bitching but i acted like id ...  \n",
       "5571                          rofl its true to its name  \n",
       "\n",
       "[5572 rows x 4 columns]"
      ]
     },
     "execution_count": 3,
     "metadata": {},
     "output_type": "execute_result"
    }
   ],
   "source": [
    "data"
   ]
  },
  {
   "cell_type": "code",
   "execution_count": 4,
   "metadata": {},
   "outputs": [],
   "source": [
    "labels, counts = np.unique(data['label'], return_counts=True)\n",
    "encoder = preprocessing.LabelEncoder()\n",
    "encoder.fit(labels[np.argsort(-counts)])\n",
    "data['y'] = encoder.transform(data['label'])"
   ]
  },
  {
   "cell_type": "code",
   "execution_count": 8,
   "metadata": {},
   "outputs": [
    {
     "data": {
      "text/plain": [
       "0.13406317300789664"
      ]
     },
     "execution_count": 8,
     "metadata": {},
     "output_type": "execute_result"
    }
   ],
   "source": [
    "data['y'].sum()/len(data['y'])"
   ]
  },
  {
   "cell_type": "code",
   "execution_count": 5,
   "metadata": {},
   "outputs": [],
   "source": [
    "random.seed(42)\n",
    "mask_train = np.random.random(data.shape[0]) < 0.8\n",
    "data_train = data[mask_train]\n",
    "data_test = data.iloc[~mask_train, :]"
   ]
  },
  {
   "cell_type": "markdown",
   "metadata": {},
   "source": [
    "# Count Vectorizer"
   ]
  },
  {
   "cell_type": "code",
   "execution_count": 6,
   "metadata": {},
   "outputs": [],
   "source": [
    "count_vect = CountVectorizer()\n",
    "count_data_train_transformed = count_vect.fit_transform(data_train['Lower Case Text'])\n",
    "count_data_test_transformed = count_vect.transform(data_test['Lower Case Text'])"
   ]
  },
  {
   "cell_type": "code",
   "execution_count": 7,
   "metadata": {},
   "outputs": [],
   "source": [
    "classifier = LogisticRegression()"
   ]
  },
  {
   "cell_type": "code",
   "execution_count": 8,
   "metadata": {},
   "outputs": [
    {
     "data": {
      "text/plain": [
       "LogisticRegression(C=1.0, class_weight=None, dual=False, fit_intercept=True,\n",
       "          intercept_scaling=1, max_iter=100, multi_class='ovr', n_jobs=1,\n",
       "          penalty='l2', random_state=None, solver='liblinear', tol=0.0001,\n",
       "          verbose=0, warm_start=False)"
      ]
     },
     "execution_count": 8,
     "metadata": {},
     "output_type": "execute_result"
    }
   ],
   "source": [
    "classifier.fit(count_data_train_transformed, data_train['y'])"
   ]
  },
  {
   "cell_type": "code",
   "execution_count": 9,
   "metadata": {},
   "outputs": [
    {
     "data": {
      "text/plain": [
       "0.9999480684912223"
      ]
     },
     "execution_count": 9,
     "metadata": {},
     "output_type": "execute_result"
    }
   ],
   "source": [
    "count_fpr, count_tpr, count_thresholds = roc_curve(data_train['y'], classifier.predict_proba(count_data_train_transformed)[:,1])\n",
    "auc(count_fpr, count_tpr)"
   ]
  },
  {
   "cell_type": "code",
   "execution_count": 10,
   "metadata": {},
   "outputs": [
    {
     "data": {
      "text/plain": [
       "0.9901939530581569"
      ]
     },
     "execution_count": 10,
     "metadata": {},
     "output_type": "execute_result"
    }
   ],
   "source": [
    "count_fpr, count_tpr, count_thresholds = roc_curve(data_test['y'], classifier.predict_proba(count_data_test_transformed)[:,1])\n",
    "auc(count_fpr, count_tpr)"
   ]
  },
  {
   "cell_type": "markdown",
   "metadata": {},
   "source": [
    "# TFIDF Vectorizer"
   ]
  },
  {
   "cell_type": "code",
   "execution_count": 11,
   "metadata": {},
   "outputs": [],
   "source": [
    "tfidf_vect = TfidfVectorizer()\n",
    "tfidf_data_train_transformed = tfidf_vect.fit_transform(data_train['Lower Case Text'])\n",
    "tfidf_data_test_transformed = tfidf_vect.transform(data_test['Lower Case Text'])"
   ]
  },
  {
   "cell_type": "code",
   "execution_count": 12,
   "metadata": {
    "scrolled": true
   },
   "outputs": [
    {
     "data": {
      "text/plain": [
       "LogisticRegression(C=1.0, class_weight=None, dual=False, fit_intercept=True,\n",
       "          intercept_scaling=1, max_iter=100, multi_class='ovr', n_jobs=1,\n",
       "          penalty='l2', random_state=None, solver='liblinear', tol=0.0001,\n",
       "          verbose=0, warm_start=False)"
      ]
     },
     "execution_count": 12,
     "metadata": {},
     "output_type": "execute_result"
    }
   ],
   "source": [
    "classifier.fit(tfidf_data_train_transformed, data_train['y'])"
   ]
  },
  {
   "cell_type": "code",
   "execution_count": 13,
   "metadata": {},
   "outputs": [
    {
     "data": {
      "text/plain": [
       "0.9974077164213438"
      ]
     },
     "execution_count": 13,
     "metadata": {},
     "output_type": "execute_result"
    }
   ],
   "source": [
    "tfidf_fpr, tfidf_tpr, tfidf_thresholds = roc_curve(data_train['y'], classifier.predict_proba(tfidf_data_train_transformed)[:,1])\n",
    "auc(tfidf_fpr, tfidf_tpr)"
   ]
  },
  {
   "cell_type": "code",
   "execution_count": 14,
   "metadata": {},
   "outputs": [
    {
     "data": {
      "text/plain": [
       "0.988835414498786"
      ]
     },
     "execution_count": 14,
     "metadata": {},
     "output_type": "execute_result"
    }
   ],
   "source": [
    "tfidf_fpr, tfidf_tpr, tfidf_thresholds = roc_curve(data_test['y'], classifier.predict_proba(tfidf_data_test_transformed)[:,1])\n",
    "auc(tfidf_fpr, tfidf_tpr)"
   ]
  },
  {
   "cell_type": "markdown",
   "metadata": {},
   "source": [
    "# N-Gram Classification"
   ]
  },
  {
   "cell_type": "markdown",
   "metadata": {},
   "source": [
    "## BiGram Count Vect"
   ]
  },
  {
   "cell_type": "code",
   "execution_count": 15,
   "metadata": {},
   "outputs": [],
   "source": [
    "bigram_count_vect = CountVectorizer(ngram_range = (2,2))\n",
    "bicount_data_train_transformed = bigram_count_vect.fit_transform(data_train['Lower Case Text'])\n",
    "bicount_data_test_transformed = bigram_count_vect.transform(data_test['Lower Case Text'])"
   ]
  },
  {
   "cell_type": "code",
   "execution_count": 16,
   "metadata": {},
   "outputs": [
    {
     "data": {
      "text/plain": [
       "LogisticRegression(C=1.0, class_weight=None, dual=False, fit_intercept=True,\n",
       "          intercept_scaling=1, max_iter=100, multi_class='ovr', n_jobs=1,\n",
       "          penalty='l2', random_state=None, solver='liblinear', tol=0.0001,\n",
       "          verbose=0, warm_start=False)"
      ]
     },
     "execution_count": 16,
     "metadata": {},
     "output_type": "execute_result"
    }
   ],
   "source": [
    "classifier.fit(bicount_data_train_transformed, data_train['y'])"
   ]
  },
  {
   "cell_type": "code",
   "execution_count": 17,
   "metadata": {},
   "outputs": [
    {
     "data": {
      "text/plain": [
       "0.9999905579074949"
      ]
     },
     "execution_count": 17,
     "metadata": {},
     "output_type": "execute_result"
    }
   ],
   "source": [
    "bicount_fpr, bicount_tpr, bicount_thresholds = roc_curve(data_train['y'], classifier.predict_proba(bicount_data_train_transformed)[:,1])\n",
    "auc(bicount_fpr, bicount_tpr)"
   ]
  },
  {
   "cell_type": "code",
   "execution_count": 18,
   "metadata": {},
   "outputs": [
    {
     "data": {
      "text/plain": [
       "0.9795135275754422"
      ]
     },
     "execution_count": 18,
     "metadata": {},
     "output_type": "execute_result"
    }
   ],
   "source": [
    "bicount_fpr, bicount_tpr, bicount_thresholds = roc_curve(data_test['y'], classifier.predict_proba(bicount_data_test_transformed)[:,1])\n",
    "auc(bicount_fpr, bicount_tpr)"
   ]
  },
  {
   "cell_type": "markdown",
   "metadata": {},
   "source": [
    "## BiGram TFIDF Vect"
   ]
  },
  {
   "cell_type": "code",
   "execution_count": 19,
   "metadata": {},
   "outputs": [],
   "source": [
    "bigram_tfidf_vect = TfidfVectorizer(ngram_range = (2,2))\n",
    "bitfidf_data_train_transformed = bigram_tfidf_vect.fit_transform(data_train['Lower Case Text'])\n",
    "bitfidf_data_test_transformed = bigram_tfidf_vect.transform(data_test['Lower Case Text'])"
   ]
  },
  {
   "cell_type": "code",
   "execution_count": 20,
   "metadata": {},
   "outputs": [
    {
     "data": {
      "text/plain": [
       "LogisticRegression(C=1.0, class_weight=None, dual=False, fit_intercept=True,\n",
       "          intercept_scaling=1, max_iter=100, multi_class='ovr', n_jobs=1,\n",
       "          penalty='l2', random_state=None, solver='liblinear', tol=0.0001,\n",
       "          verbose=0, warm_start=False)"
      ]
     },
     "execution_count": 20,
     "metadata": {},
     "output_type": "execute_result"
    }
   ],
   "source": [
    "classifier.fit(bitfidf_data_train_transformed, data_train['y'])"
   ]
  },
  {
   "cell_type": "code",
   "execution_count": 21,
   "metadata": {},
   "outputs": [
    {
     "data": {
      "text/plain": [
       "0.9999892703494261"
      ]
     },
     "execution_count": 21,
     "metadata": {},
     "output_type": "execute_result"
    }
   ],
   "source": [
    "bitfidf_fpr, bitfidf_tpr, bitfidf_thresholds = roc_curve(data_train['y'], classifier.predict_proba(bitfidf_data_train_transformed)[:,1])\n",
    "auc(bitfidf_fpr, bitfidf_tpr)"
   ]
  },
  {
   "cell_type": "code",
   "execution_count": 22,
   "metadata": {},
   "outputs": [
    {
     "data": {
      "text/plain": [
       "0.9795568851890392"
      ]
     },
     "execution_count": 22,
     "metadata": {},
     "output_type": "execute_result"
    }
   ],
   "source": [
    "bitfidf_fpr, bitfidf_tpr, bitfidf_thresholds = roc_curve(data_test['y'], classifier.predict_proba(bitfidf_data_test_transformed)[:,1])\n",
    "auc(bitfidf_fpr, bitfidf_tpr)"
   ]
  },
  {
   "cell_type": "markdown",
   "metadata": {},
   "source": [
    "## NGram Count Vect"
   ]
  },
  {
   "cell_type": "code",
   "execution_count": 23,
   "metadata": {},
   "outputs": [],
   "source": [
    "ngram_count_vect = CountVectorizer(ngram_range = (1,2))\n",
    "ncount_data_train_transformed = ngram_count_vect.fit_transform(data_train['Lower Case Text'])\n",
    "ncount_data_test_transformed = ngram_count_vect.transform(data_test['Lower Case Text'])"
   ]
  },
  {
   "cell_type": "code",
   "execution_count": 24,
   "metadata": {},
   "outputs": [
    {
     "data": {
      "text/plain": [
       "LogisticRegression(C=1.0, class_weight=None, dual=False, fit_intercept=True,\n",
       "          intercept_scaling=1, max_iter=100, multi_class='ovr', n_jobs=1,\n",
       "          penalty='l2', random_state=None, solver='liblinear', tol=0.0001,\n",
       "          verbose=0, warm_start=False)"
      ]
     },
     "execution_count": 24,
     "metadata": {},
     "output_type": "execute_result"
    }
   ],
   "source": [
    "classifier.fit(ncount_data_train_transformed, data_train['y'])"
   ]
  },
  {
   "cell_type": "code",
   "execution_count": 25,
   "metadata": {},
   "outputs": [
    {
     "data": {
      "text/plain": [
       "0.9999974248838623"
      ]
     },
     "execution_count": 25,
     "metadata": {},
     "output_type": "execute_result"
    }
   ],
   "source": [
    "ncount_fpr, ncount_tpr, ncount_thresholds = roc_curve(data_train['y'], classifier.predict_proba(ncount_data_train_transformed)[:,1])\n",
    "auc(ncount_fpr, ncount_tpr)"
   ]
  },
  {
   "cell_type": "code",
   "execution_count": 26,
   "metadata": {},
   "outputs": [
    {
     "data": {
      "text/plain": [
       "0.9878309631171234"
      ]
     },
     "execution_count": 26,
     "metadata": {},
     "output_type": "execute_result"
    }
   ],
   "source": [
    "ncount_fpr, ncount_tpr, ncount_thresholds = roc_curve(data_test['y'], classifier.predict_proba(ncount_data_test_transformed)[:,1])\n",
    "auc(ncount_fpr, ncount_tpr)"
   ]
  },
  {
   "cell_type": "markdown",
   "metadata": {},
   "source": [
    "## NGram TFIDF Vect"
   ]
  },
  {
   "cell_type": "code",
   "execution_count": 27,
   "metadata": {},
   "outputs": [],
   "source": [
    "ngram_tfidf_vect = TfidfVectorizer(ngram_range = (1,2))\n",
    "ntfidf_data_train_transformed = ngram_tfidf_vect.fit_transform(data_train['Lower Case Text'])\n",
    "ntfidf_data_test_transformed = ngram_tfidf_vect.transform(data_test['Lower Case Text'])"
   ]
  },
  {
   "cell_type": "code",
   "execution_count": 28,
   "metadata": {},
   "outputs": [
    {
     "data": {
      "text/plain": [
       "LogisticRegression(C=1.0, class_weight=None, dual=False, fit_intercept=True,\n",
       "          intercept_scaling=1, max_iter=100, multi_class='ovr', n_jobs=1,\n",
       "          penalty='l2', random_state=None, solver='liblinear', tol=0.0001,\n",
       "          verbose=0, warm_start=False)"
      ]
     },
     "execution_count": 28,
     "metadata": {},
     "output_type": "execute_result"
    }
   ],
   "source": [
    "classifier.fit(ntfidf_data_train_transformed, data_train['y'])"
   ]
  },
  {
   "cell_type": "code",
   "execution_count": 29,
   "metadata": {},
   "outputs": [
    {
     "data": {
      "text/plain": [
       "0.9993952768936545"
      ]
     },
     "execution_count": 29,
     "metadata": {},
     "output_type": "execute_result"
    }
   ],
   "source": [
    "ntfidf_fpr, ntfidf_tpr, ntfidf_thresholds = roc_curve(data_train['y'], classifier.predict_proba(ntfidf_data_train_transformed)[:,1])\n",
    "auc(ntfidf_fpr, ntfidf_tpr)"
   ]
  },
  {
   "cell_type": "code",
   "execution_count": 30,
   "metadata": {},
   "outputs": [
    {
     "data": {
      "text/plain": [
       "0.9897531506532548"
      ]
     },
     "execution_count": 30,
     "metadata": {},
     "output_type": "execute_result"
    }
   ],
   "source": [
    "ntfidf_fpr, ntfidf_tpr, ntfidf_thresholds = roc_curve(data_test['y'], classifier.predict_proba(ntfidf_data_test_transformed)[:,1])\n",
    "auc(ntfidf_fpr, ntfidf_tpr)"
   ]
  },
  {
   "cell_type": "code",
   "execution_count": null,
   "metadata": {},
   "outputs": [],
   "source": []
  }
 ],
 "metadata": {
  "kernelspec": {
   "display_name": "Python 3",
   "language": "python",
   "name": "python3"
  },
  "language_info": {
   "codemirror_mode": {
    "name": "ipython",
    "version": 3
   },
   "file_extension": ".py",
   "mimetype": "text/x-python",
   "name": "python",
   "nbconvert_exporter": "python",
   "pygments_lexer": "ipython3",
   "version": "3.6.7"
  }
 },
 "nbformat": 4,
 "nbformat_minor": 2
}
