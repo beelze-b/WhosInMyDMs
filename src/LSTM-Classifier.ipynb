{
 "cells": [
  {
   "cell_type": "code",
   "execution_count": 1,
   "metadata": {},
   "outputs": [],
   "source": [
    "import torch\n",
    "import torch.optim as optim\n",
    "import torch.nn as nn\n",
    "import torch.nn.functional as F\n",
    "\n",
    "from torch.autograd import Variable\n",
    "\n",
    "from sklearn import preprocessing\n",
    "\n",
    "from sklearn.feature_extraction.text import CountVectorizer\n",
    "from sklearn.feature_extraction.stop_words import ENGLISH_STOP_WORDS\n",
    "\n",
    "import numpy as np\n",
    "import pandas as pd"
   ]
  },
  {
   "cell_type": "code",
   "execution_count": 2,
   "metadata": {},
   "outputs": [],
   "source": [
    "EPOCHS = 50\n",
    "BATCH_SIZE = 10\n",
    "LEARNING_RATE = 0.001\n",
    "WEIGHT_DECAY = 0.005\n",
    "HIDDEN_DIM = 5\n",
    "GRADIENT_CLIP = 10\n",
    "DROPOUT_PARAM = 0"
   ]
  },
  {
   "cell_type": "code",
   "execution_count": 3,
   "metadata": {},
   "outputs": [],
   "source": [
    "class TwoGramLanguageModeler(nn.Module):\n",
    "    def __init__(self, vocab_size, embedding_dim, context_size):\n",
    "        super(TwoGramLanguageModeler, self).__init__()\n",
    "        self.embeddings = nn.Embedding(vocab_size, embedding_dim)\n",
    "        self.linear1 = nn.Linear(context_size * embedding_dim, 128)\n",
    "        self.linear2 = nn.Linear(128, vocab_size)\n",
    "    \n",
    "    def forward(self, inputs):\n",
    "        embeds = self.embeddings(inputs).view((1, -1))\n",
    "        out = F.relu(self.linear1(embeds))\n",
    "        out = self.linear2(out)\n",
    "        log_probs = F.log_softmax(out, dim=1)\n",
    "        return log_probs"
   ]
  },
  {
   "cell_type": "code",
   "execution_count": 4,
   "metadata": {},
   "outputs": [],
   "source": [
    "data = pd.read_csv('../data/SMSSpamCollection', sep='\\t', header=None)\n",
    "data['Text'] = data[1].str.replace('[^\\w\\s]','')\n",
    "data.columns = ['label', 'Full Text', 'Text']\n",
    "data['Lower Case Text'] = data['Text'].str.lower()"
   ]
  },
  {
   "cell_type": "code",
   "execution_count": 5,
   "metadata": {},
   "outputs": [],
   "source": [
    "labels, counts = np.unique(data['label'], return_counts=True)\n",
    "encoder = preprocessing.LabelEncoder()\n",
    "encoder.fit(labels[np.argsort(-counts)])\n",
    "data['y'] = encoder.transform(data['label'])"
   ]
  },
  {
   "cell_type": "code",
   "execution_count": 6,
   "metadata": {},
   "outputs": [],
   "source": [
    "np.random.seed(42)\n",
    "mask_train = np.random.random(data.shape[0]) < 0.8\n",
    "data_train = data[mask_train]\n",
    "data_test = data.iloc[~mask_train, :]\n",
    "\n",
    "\n",
    "#up sample data train for word2vec vocabulary, this must be done exactly was it was done for word2vec training\n",
    "countToIncrease = data_train[data_train['y'] == 0].shape[0] - data_train[data_train['y'] == 1].shape[0]\n",
    "spamupsampled = data_train[data_train['y'] == 1].sample(n=countToIncrease, replace=True)\n",
    "data_train_upsample_word2vec = pd.concat([spamupsampled, data_train]).sample(frac=1).reset_index(drop=True)\n",
    "\n",
    "count_vect_sing_word = CountVectorizer(stop_words=ENGLISH_STOP_WORDS)\n",
    "count_vect_sing_word.fit(data_train_upsample_word2vec['Lower Case Text'])\n",
    "tokenizer_word = count_vect_sing_word.build_tokenizer()\n",
    "\n",
    "#up sampling specificiallly to hve blanced data set and also match batch size\n",
    "#countToIncrease_word = data_train[data_train['y'] == 0].shape[0]\n",
    "#while (countToIncrease_word  +  data_train[data_train['y'] == 0].shape[0]) % BATCH_SIZE != 0:\n",
    "    #countToIncrease_word = countToIncrease_word + 1\n",
    "#spamupsampled_word = data_train[data_train['y'] == 1].sample(n=countToIncrease_word, replace=True)\n",
    "#data_train_upsample_word2vec = pd.concat([spamupsampled_word, data_train[data_train['y'] == 0]])\\\n",
    "                               #.sample(frac=1).reset_index(drop=True)\n",
    "\n",
    "countToIncrease_word = data_train[data_train['y'] == 1].shape[0]\n",
    "while (countToIncrease_word  +  data_train[data_train['y'] == 0].shape[0]) % BATCH_SIZE != 0:\n",
    "    countToIncrease_word = countToIncrease_word + 1\n",
    "spamupsampled_word = data_train[data_train['y'] == 1].sample(n=countToIncrease_word, replace=True)\n",
    "data_train_upsample_word2vec = pd.concat([spamupsampled_word, data_train[data_train['y'] == 0]])\\\n",
    "                               .sample(frac=1).reset_index(drop=True)"
   ]
  },
  {
   "cell_type": "code",
   "execution_count": 7,
   "metadata": {},
   "outputs": [],
   "source": [
    "diff = len(data_test) % BATCH_SIZE\n",
    "data_test_spam = data_test[data_test['y'] == 1]\n",
    "\n",
    "data_test_downsample_ham = data_test[data_test['y'] == 0].sample(len(data_test[data_test['y'] == 0]) - diff)\n",
    "data_test_downsample = pd.concat([data_test_spam, data_test_downsample_ham]).sample(frac=1).reset_index(drop=True)"
   ]
  },
  {
   "cell_type": "code",
   "execution_count": 8,
   "metadata": {},
   "outputs": [],
   "source": [
    "## create data down sample balanced\n",
    "## won't work for general batch_sizes\n",
    "test_spam_count = data_test[data_test['y'] == 1].shape[0]\n",
    "diff = test_spam_count % BATCH_SIZE \n",
    "test_spam_count = test_spam_count - diff\n",
    "data_test_downsample_spam = data_test[data_test['y'] == 1].sample(test_spam_count)\n",
    "\n",
    "data_test_downsample_ham = data_test[data_test['y'] == 0].sample(test_spam_count)\n",
    "data_test_downsample_bal = pd.concat([data_test_downsample_ham, data_test_downsample_spam]) \\\n",
    "    .sample(frac=1).reset_index(drop=True)\n"
   ]
  },
  {
   "cell_type": "code",
   "execution_count": 9,
   "metadata": {},
   "outputs": [],
   "source": [
    "EMBEDDING_SIZE = 300\n",
    "CONTEXT_SIZE = 1\n",
    "VOCAB_SIZE = len(count_vect_sing_word.vocabulary_)\n",
    "word_to_ix = count_vect_sing_word.vocabulary_"
   ]
  },
  {
   "cell_type": "code",
   "execution_count": 10,
   "metadata": {},
   "outputs": [],
   "source": [
    "word2vec_model = TwoGramLanguageModeler(VOCAB_SIZE, EMBEDDING_SIZE, CONTEXT_SIZE)"
   ]
  },
  {
   "cell_type": "code",
   "execution_count": 11,
   "metadata": {},
   "outputs": [],
   "source": [
    "MODEL_PATH_WORD = '../data/word_2vec_model'\n",
    "word_embeddings = word2vec_model.embeddings\n",
    "word2vec_model.load_state_dict(torch.load(MODEL_PATH_WORD))\n",
    "word2vec_model.eval()\n",
    "\n",
    "word_embeddings = word2vec_model.embeddings\n",
    "# TO FIX EMBEDDINGS\n",
    "word_embeddings.weight.requires_grad = False"
   ]
  },
  {
   "cell_type": "code",
   "execution_count": 12,
   "metadata": {},
   "outputs": [],
   "source": [
    "# count_vect_sing_word is a CountVectorizer\n",
    "def _indicesForSentence(input_str, tokenizer = tokenizer_word, count_vect = count_vect_sing_word):\n",
    "    input_str = list(filter(lambda x: x in count_vect.vocabulary_, tokenizer(input_str)))\n",
    "    return torch.tensor([[word_to_ix[word]] for word in input_str], dtype=torch.long)\n",
    "\n",
    "def sentenceToNumpyInstance(input_str, embedder):\n",
    "    embeddings = embedder(_indicesForSentence(input_str))\n",
    "    if embeddings.shape == torch.Size([0]):\n",
    "        return np.zeros(EMBEDDING_SIZE)\n",
    "    else:\n",
    "        return torch.Tensor.numpy(embeddings.detach())\n",
    "    \n",
    "def word2vec_transform(data, embeddings, field = 'Lower Case Text'):\n",
    "    return np.array(data[field].apply(sentenceToNumpyInstance, embedder=embeddings).values.tolist())"
   ]
  },
  {
   "cell_type": "code",
   "execution_count": 13,
   "metadata": {},
   "outputs": [],
   "source": [
    "trans_data = word2vec_transform(data_train_upsample_word2vec, embeddings=word_embeddings)\n",
    "trans_test_data = word2vec_transform(data_test_downsample, embeddings=word_embeddings)\n",
    "trans_test_data_bal = word2vec_transform(data_test_downsample_bal, embeddings=word_embeddings)"
   ]
  },
  {
   "cell_type": "code",
   "execution_count": 14,
   "metadata": {},
   "outputs": [],
   "source": [
    "def generateSentenceLengths(data):\n",
    "    sentence_lengths= []\n",
    "    for i in range(len(data)):\n",
    "        e = data[i]\n",
    "        if len(e.shape) > 1:\n",
    "            sentence_lengths.append(e.shape[0])\n",
    "        else:\n",
    "            sentence_lengths.append(1)\n",
    "    return sentence_lengths\n",
    "\n",
    "# order the batch sequences from lengtiest sentence to shortest\n",
    "sentence_lengths = np.array(generateSentenceLengths(trans_data))\n",
    "indices_rv = np.argsort(-sentence_lengths)\n",
    "sentence_lengths = sentence_lengths[indices_rv]\n",
    "trans_data = trans_data[indices_rv]\n",
    "\n",
    "sentence_lengths_test = np.array(generateSentenceLengths(trans_test_data))\n",
    "indices_rv_test = np.argsort(-sentence_lengths_test)\n",
    "sentence_lengths_test = sentence_lengths_test[indices_rv_test]\n",
    "trans_test_data = trans_test_data[indices_rv_test]\n",
    "\n",
    "sentence_lengths_test_bal = np.array(generateSentenceLengths(trans_test_data_bal))\n",
    "indices_rv_test = np.argsort(-sentence_lengths_test_bal)\n",
    "sentence_lengths_test_bal = sentence_lengths_test_bal[indices_rv_test]\n",
    "trans_test_data_bal = trans_test_data_bal[indices_rv_test]\n",
    "\n",
    "\n",
    "assert sentence_lengths[0] >= sentence_lengths_test[0]"
   ]
  },
  {
   "cell_type": "code",
   "execution_count": 15,
   "metadata": {},
   "outputs": [],
   "source": [
    "max_len_so_far = -1\n",
    "for i in range(len(trans_data)):\n",
    "    e = trans_data[i]\n",
    "    if e.shape[0] >= max_len_so_far and len(e.shape) > 1:\n",
    "        max_len_so_far = e.shape[0]"
   ]
  },
  {
   "cell_type": "code",
   "execution_count": 16,
   "metadata": {},
   "outputs": [],
   "source": [
    "SENTENCE_LEN = max_len_so_far"
   ]
  },
  {
   "cell_type": "code",
   "execution_count": 17,
   "metadata": {},
   "outputs": [],
   "source": [
    "def adjust_learning_rate(optimizer, epoch):\n",
    "    lr = LEARNING_RATE * (0.1 ** (epoch // 10))\n",
    "    for param_group in optimizer.param_groups:\n",
    "        param_group['lr'] = lr\n",
    "    return optimizer"
   ]
  },
  {
   "cell_type": "code",
   "execution_count": 18,
   "metadata": {},
   "outputs": [],
   "source": [
    "class LSTMClassifier(nn.Module):\n",
    "    def __init__(self, embedding_dim = EMBEDDING_SIZE, hidden_dim = HIDDEN_DIM, \\\n",
    "                 label_size = 2, batch_size = BATCH_SIZE, num_layers = 1):\n",
    "        super(LSTMClassifier, self).__init__()\n",
    "        self.hidden_dim = hidden_dim\n",
    "        self.batch_size = batch_size\n",
    "        self.num_layers = num_layers\n",
    "        self.lstm = nn.LSTM(embedding_dim, hidden_dim, num_layers = num_layers, dropout = DROPOUT_PARAM)\n",
    "        self.hidden2label = nn.Linear(hidden_dim, label_size)\n",
    "        self.hidden = self.init_hidden()\n",
    "        \n",
    "    def init_hidden(self):\n",
    "        h0 = Variable(torch.zeros(self.num_layers, self.batch_size, self.hidden_dim))\n",
    "        c0 = Variable(torch.zeros(self.num_layers, self.batch_size, self.hidden_dim))\n",
    "        return (h0, c0)\n",
    "    \n",
    "    def forward(self, embeds, sentence_lengths):\n",
    "        embeds = torch.nn.utils.rnn.pack_padded_sequence(embeds, sentence_lengths, batch_first=True)\n",
    "        lstm_out, self.hidden = self.lstm(embeds, self.hidden)\n",
    "        \n",
    "        #lstm_out, _ = torch.nn.utils.rnn.pad_packed_sequence(lstm_out, batch_first=True)\n",
    "        #y = self.hidden2label(lstm_out.float()[:, -1, :])\n",
    "        \n",
    "        # use h_t and last layer\n",
    "        y = self.hidden2label(self.hidden[0][-1].float())\n",
    "        return y"
   ]
  },
  {
   "cell_type": "code",
   "execution_count": 19,
   "metadata": {},
   "outputs": [],
   "source": [
    "model = LSTMClassifier()"
   ]
  },
  {
   "cell_type": "code",
   "execution_count": 20,
   "metadata": {},
   "outputs": [],
   "source": [
    "def padSentences(data):\n",
    "    trans_data_reshape = np.zeros((data.shape[0], SENTENCE_LEN, EMBEDDING_SIZE))\n",
    "    # this will also do padding\n",
    "    for i in range(data.shape[0]):\n",
    "        e = data[i]\n",
    "        if len(e.shape) > 1:\n",
    "            sentence_len_sofar = e.shape[0]\n",
    "            for j in range(sentence_len_sofar):\n",
    "                trans_data_reshape[i, j] = e[j][0]\n",
    "    return trans_data_reshape"
   ]
  },
  {
   "cell_type": "code",
   "execution_count": 21,
   "metadata": {},
   "outputs": [],
   "source": [
    "trans_data = padSentences(trans_data)\n",
    "trans_test_data = padSentences(trans_test_data)\n",
    "trans_test_data_bal = padSentences(trans_test_data_bal)"
   ]
  },
  {
   "cell_type": "code",
   "execution_count": 22,
   "metadata": {},
   "outputs": [],
   "source": [
    "def prediction(data, sen_len):\n",
    "    return model(torch.tensor(data,dtype=torch.float), sen_len)"
   ]
  },
  {
   "cell_type": "code",
   "execution_count": 23,
   "metadata": {},
   "outputs": [],
   "source": [
    "train_y = data_train_upsample_word2vec['y']\n",
    "test_y = data_test_downsample['y']\n",
    "test_y_bal = data_test_downsample_bal['y']"
   ]
  },
  {
   "cell_type": "code",
   "execution_count": 24,
   "metadata": {},
   "outputs": [],
   "source": [
    "#loss_function = nn.CrossEntropyLoss()\n",
    "weight_0c=1.0/(data_train_upsample_word2vec['y'] == 0).sum()\n",
    "weight_1c=1.0/(data_train_upsample_word2vec['y'] == 1).sum()\n",
    "\n",
    "weights = torch.tensor([weight_0c, weight_1c])\n",
    "loss_function = nn.CrossEntropyLoss(weight = weights)\n",
    "train_loss_ = []\n",
    "test_loss_ = []\n",
    "test_bal_loss_ = []\n",
    "train_acc_ = []\n",
    "test_acc_ = []\n",
    "test_bal_acc_ = []"
   ]
  },
  {
   "cell_type": "code",
   "execution_count": 25,
   "metadata": {},
   "outputs": [
    {
     "data": {
      "text/plain": [
       "0.0017035775127768314"
      ]
     },
     "execution_count": 25,
     "metadata": {},
     "output_type": "execute_result"
    }
   ],
   "source": [
    "weight_1c"
   ]
  },
  {
   "cell_type": "code",
   "execution_count": 26,
   "metadata": {},
   "outputs": [
    {
     "data": {
      "text/plain": [
       "0.0002575328354365182"
      ]
     },
     "execution_count": 26,
     "metadata": {},
     "output_type": "execute_result"
    }
   ],
   "source": [
    "weight_0c"
   ]
  },
  {
   "cell_type": "code",
   "execution_count": 27,
   "metadata": {},
   "outputs": [],
   "source": [
    "def chunks(l, n):\n",
    "    for i in range(0, len(l), n):\n",
    "        yield l[i:i + n]"
   ]
  },
  {
   "cell_type": "code",
   "execution_count": 28,
   "metadata": {},
   "outputs": [],
   "source": [
    "MODEL_PATH_LSTM = '../data/LSTM_model'"
   ]
  },
  {
   "cell_type": "code",
   "execution_count": 29,
   "metadata": {
    "scrolled": false
   },
   "outputs": [
    {
     "name": "stdout",
     "output_type": "stream",
     "text": [
      "0\n",
      "[Epoch:   1/ 50] Training Loss: 0.069044, Testing Loss: 0.068607, Test Balanced Loss: 0.077581, Training Acc: 0.693960, Testing Acc: 0.765455, Testing Balanced Acc: 0.478125\n",
      "1\n",
      "[Epoch:   2/ 50] Training Loss: 0.066869, Testing Loss: 0.069073, Test Balanced Loss: 0.083056, Training Acc: 0.825056, Testing Acc: 0.809091, Testing Balanced Acc: 0.484375\n",
      "2\n",
      "[Epoch:   3/ 50] Training Loss: 0.064965, Testing Loss: 0.069881, Test Balanced Loss: 0.086964, Training Acc: 0.839150, Testing Acc: 0.767273, Testing Balanced Acc: 0.465625\n",
      "3\n",
      "[Epoch:   4/ 50] Training Loss: 0.061259, Testing Loss: 0.071188, Test Balanced Loss: 0.092646, Training Acc: 0.827740, Testing Acc: 0.727273, Testing Balanced Acc: 0.462500\n",
      "4\n",
      "[Epoch:   5/ 50] Training Loss: 0.056121, Testing Loss: 0.075033, Test Balanced Loss: 0.102603, Training Acc: 0.819016, Testing Acc: 0.718182, Testing Balanced Acc: 0.456250\n",
      "5\n",
      "[Epoch:   6/ 50] Training Loss: 0.050407, Testing Loss: 0.077813, Test Balanced Loss: 0.111154, Training Acc: 0.823937, Testing Acc: 0.708182, Testing Balanced Acc: 0.484375\n",
      "6\n",
      "[Epoch:   7/ 50] Training Loss: 0.044760, Testing Loss: 0.083838, Test Balanced Loss: 0.128742, Training Acc: 0.841611, Testing Acc: 0.700909, Testing Balanced Acc: 0.478125\n",
      "7\n",
      "[Epoch:   8/ 50] Training Loss: 0.040491, Testing Loss: 0.088285, Test Balanced Loss: 0.136254, Training Acc: 0.855705, Testing Acc: 0.700000, Testing Balanced Acc: 0.484375\n",
      "8\n",
      "[Epoch:   9/ 50] Training Loss: 0.036426, Testing Loss: 0.095135, Test Balanced Loss: 0.149338, Training Acc: 0.872483, Testing Acc: 0.696364, Testing Balanced Acc: 0.475000\n",
      "9\n",
      "[Epoch:  10/ 50] Training Loss: 0.033079, Testing Loss: 0.098779, Test Balanced Loss: 0.156735, Training Acc: 0.887696, Testing Acc: 0.698182, Testing Balanced Acc: 0.496875\n",
      "10\n",
      "[Epoch:  11/ 50] Training Loss: 0.030773, Testing Loss: 0.101226, Test Balanced Loss: 0.161866, Training Acc: 0.892394, Testing Acc: 0.697273, Testing Balanced Acc: 0.493750\n",
      "11\n",
      "[Epoch:  12/ 50] Training Loss: 0.028509, Testing Loss: 0.107407, Test Balanced Loss: 0.173944, Training Acc: 0.898210, Testing Acc: 0.704545, Testing Balanced Acc: 0.493750\n",
      "12\n",
      "[Epoch:  13/ 50] Training Loss: 0.026716, Testing Loss: 0.114766, Test Balanced Loss: 0.192564, Training Acc: 0.907159, Testing Acc: 0.723636, Testing Balanced Acc: 0.487500\n",
      "13\n",
      "[Epoch:  14/ 50] Training Loss: 0.025620, Testing Loss: 0.116884, Test Balanced Loss: 0.190804, Training Acc: 0.916555, Testing Acc: 0.715455, Testing Balanced Acc: 0.487500\n",
      "14\n",
      "[Epoch:  15/ 50] Training Loss: 0.024177, Testing Loss: 0.119608, Test Balanced Loss: 0.196211, Training Acc: 0.915436, Testing Acc: 0.725455, Testing Balanced Acc: 0.493750\n",
      "15\n",
      "[Epoch:  16/ 50] Training Loss: 0.023631, Testing Loss: 0.120528, Test Balanced Loss: 0.200399, Training Acc: 0.919239, Testing Acc: 0.722727, Testing Balanced Acc: 0.478125\n",
      "16\n",
      "[Epoch:  17/ 50] Training Loss: 0.022411, Testing Loss: 0.118174, Test Balanced Loss: 0.192088, Training Acc: 0.925280, Testing Acc: 0.708182, Testing Balanced Acc: 0.493750\n",
      "17\n",
      "[Epoch:  18/ 50] Training Loss: 0.021530, Testing Loss: 0.123647, Test Balanced Loss: 0.201453, Training Acc: 0.926846, Testing Acc: 0.719091, Testing Balanced Acc: 0.471875\n",
      "18\n",
      "[Epoch:  19/ 50] Training Loss: 0.021112, Testing Loss: 0.124031, Test Balanced Loss: 0.213174, Training Acc: 0.926846, Testing Acc: 0.720000, Testing Balanced Acc: 0.471875\n",
      "19\n",
      "[Epoch:  20/ 50] Training Loss: 0.020612, Testing Loss: 0.125711, Test Balanced Loss: 0.202497, Training Acc: 0.932662, Testing Acc: 0.712727, Testing Balanced Acc: 0.493750\n",
      "20\n",
      "[Epoch:  21/ 50] Training Loss: 0.020009, Testing Loss: 0.129741, Test Balanced Loss: 0.216546, Training Acc: 0.932662, Testing Acc: 0.731818, Testing Balanced Acc: 0.475000\n",
      "21\n",
      "[Epoch:  22/ 50] Training Loss: 0.019418, Testing Loss: 0.131438, Test Balanced Loss: 0.214030, Training Acc: 0.931767, Testing Acc: 0.720909, Testing Balanced Acc: 0.468750\n",
      "22\n",
      "[Epoch:  23/ 50] Training Loss: 0.019196, Testing Loss: 0.131032, Test Balanced Loss: 0.214686, Training Acc: 0.938031, Testing Acc: 0.722727, Testing Balanced Acc: 0.481250\n",
      "23\n",
      "[Epoch:  24/ 50] Training Loss: 0.018741, Testing Loss: 0.134785, Test Balanced Loss: 0.228137, Training Acc: 0.939597, Testing Acc: 0.723636, Testing Balanced Acc: 0.487500\n",
      "24\n",
      "[Epoch:  25/ 50] Training Loss: 0.018680, Testing Loss: 0.132508, Test Balanced Loss: 0.223153, Training Acc: 0.941611, Testing Acc: 0.728182, Testing Balanced Acc: 0.468750\n",
      "25\n",
      "[Epoch:  26/ 50] Training Loss: 0.018144, Testing Loss: 0.130810, Test Balanced Loss: 0.216595, Training Acc: 0.942282, Testing Acc: 0.719091, Testing Balanced Acc: 0.478125\n",
      "26\n",
      "[Epoch:  27/ 50] Training Loss: 0.018349, Testing Loss: 0.133663, Test Balanced Loss: 0.225619, Training Acc: 0.938926, Testing Acc: 0.730909, Testing Balanced Acc: 0.493750\n",
      "27\n",
      "[Epoch:  28/ 50] Training Loss: 0.017735, Testing Loss: 0.132927, Test Balanced Loss: 0.228507, Training Acc: 0.945190, Testing Acc: 0.716364, Testing Balanced Acc: 0.478125\n",
      "28\n",
      "[Epoch:  29/ 50] Training Loss: 0.017742, Testing Loss: 0.130170, Test Balanced Loss: 0.214925, Training Acc: 0.944519, Testing Acc: 0.723636, Testing Balanced Acc: 0.481250\n",
      "29\n",
      "[Epoch:  30/ 50] Training Loss: 0.017387, Testing Loss: 0.138232, Test Balanced Loss: 0.227924, Training Acc: 0.947204, Testing Acc: 0.727273, Testing Balanced Acc: 0.478125\n",
      "30\n",
      "[Epoch:  31/ 50] Training Loss: 0.017368, Testing Loss: 0.134012, Test Balanced Loss: 0.230082, Training Acc: 0.944519, Testing Acc: 0.724545, Testing Balanced Acc: 0.481250\n",
      "31\n",
      "[Epoch:  32/ 50] Training Loss: 0.017176, Testing Loss: 0.132334, Test Balanced Loss: 0.214567, Training Acc: 0.948322, Testing Acc: 0.720909, Testing Balanced Acc: 0.475000\n",
      "32\n",
      "[Epoch:  33/ 50] Training Loss: 0.017086, Testing Loss: 0.134825, Test Balanced Loss: 0.225895, Training Acc: 0.945414, Testing Acc: 0.739091, Testing Balanced Acc: 0.490625\n",
      "33\n",
      "[Epoch:  34/ 50] Training Loss: 0.016919, Testing Loss: 0.137965, Test Balanced Loss: 0.236089, Training Acc: 0.948322, Testing Acc: 0.736364, Testing Balanced Acc: 0.471875\n",
      "34\n",
      "[Epoch:  35/ 50] Training Loss: 0.016775, Testing Loss: 0.134213, Test Balanced Loss: 0.217563, Training Acc: 0.950336, Testing Acc: 0.719091, Testing Balanced Acc: 0.478125\n",
      "35\n",
      "[Epoch:  36/ 50] Training Loss: 0.016908, Testing Loss: 0.134096, Test Balanced Loss: 0.213648, Training Acc: 0.950112, Testing Acc: 0.713636, Testing Balanced Acc: 0.471875\n",
      "36\n",
      "[Epoch:  37/ 50] Training Loss: 0.016675, Testing Loss: 0.137549, Test Balanced Loss: 0.228365, Training Acc: 0.948993, Testing Acc: 0.734545, Testing Balanced Acc: 0.481250\n",
      "37\n",
      "[Epoch:  38/ 50] Training Loss: 0.016862, Testing Loss: 0.135401, Test Balanced Loss: 0.220222, Training Acc: 0.948322, Testing Acc: 0.724545, Testing Balanced Acc: 0.481250\n",
      "38\n",
      "[Epoch:  39/ 50] Training Loss: 0.016597, Testing Loss: 0.136263, Test Balanced Loss: 0.221592, Training Acc: 0.951007, Testing Acc: 0.728182, Testing Balanced Acc: 0.487500\n",
      "39\n",
      "[Epoch:  40/ 50] Training Loss: 0.016300, Testing Loss: 0.143567, Test Balanced Loss: 0.246187, Training Acc: 0.953020, Testing Acc: 0.743636, Testing Balanced Acc: 0.471875\n",
      "40\n",
      "[Epoch:  41/ 50] Training Loss: 0.016523, Testing Loss: 0.146034, Test Balanced Loss: 0.239552, Training Acc: 0.953915, Testing Acc: 0.736364, Testing Balanced Acc: 0.484375\n",
      "41\n",
      "[Epoch:  42/ 50] Training Loss: 0.016765, Testing Loss: 0.139307, Test Balanced Loss: 0.227487, Training Acc: 0.949664, Testing Acc: 0.730000, Testing Balanced Acc: 0.493750\n",
      "42\n",
      "[Epoch:  43/ 50] Training Loss: 0.016322, Testing Loss: 0.140908, Test Balanced Loss: 0.231377, Training Acc: 0.951454, Testing Acc: 0.732727, Testing Balanced Acc: 0.496875\n",
      "43\n",
      "[Epoch:  44/ 50] Training Loss: 0.016509, Testing Loss: 0.139859, Test Balanced Loss: 0.225192, Training Acc: 0.946756, Testing Acc: 0.734545, Testing Balanced Acc: 0.490625\n",
      "44\n",
      "[Epoch:  45/ 50] Training Loss: 0.016503, Testing Loss: 0.142682, Test Balanced Loss: 0.229633, Training Acc: 0.955034, Testing Acc: 0.740000, Testing Balanced Acc: 0.490625\n",
      "45\n",
      "[Epoch:  46/ 50] Training Loss: 0.016079, Testing Loss: 0.141537, Test Balanced Loss: 0.231114, Training Acc: 0.950559, Testing Acc: 0.730909, Testing Balanced Acc: 0.500000\n",
      "46\n",
      "[Epoch:  47/ 50] Training Loss: 0.016223, Testing Loss: 0.142753, Test Balanced Loss: 0.239079, Training Acc: 0.952573, Testing Acc: 0.742727, Testing Balanced Acc: 0.484375\n",
      "47\n"
     ]
    },
    {
     "name": "stdout",
     "output_type": "stream",
     "text": [
      "[Epoch:  48/ 50] Training Loss: 0.016221, Testing Loss: 0.140237, Test Balanced Loss: 0.223377, Training Acc: 0.951902, Testing Acc: 0.726364, Testing Balanced Acc: 0.506250\n",
      "48\n",
      "[Epoch:  49/ 50] Training Loss: 0.016054, Testing Loss: 0.138350, Test Balanced Loss: 0.231100, Training Acc: 0.949217, Testing Acc: 0.728182, Testing Balanced Acc: 0.490625\n",
      "49\n",
      "[Epoch:  50/ 50] Training Loss: 0.015925, Testing Loss: 0.138906, Test Balanced Loss: 0.223484, Training Acc: 0.951902, Testing Acc: 0.729091, Testing Balanced Acc: 0.496875\n"
     ]
    }
   ],
   "source": [
    "optimizer = optim.Adam(model.parameters(), lr=LEARNING_RATE, weight_decay = WEIGHT_DECAY)\n",
    "#optimizer = optim.SGD(model.parameters(), lr=LEARNING_RATE)\n",
    "train_predictions_tmp = []\n",
    "test_predictions_tmp = []\n",
    "test_bal_predictions_tmp = []\n",
    "for epoch in range(EPOCHS):\n",
    "    print(epoch)\n",
    "    # using adam so might be too much\n",
    "    #optimizer = adjust_learning_rate(optimizer, epoch)\n",
    "    \n",
    "    ## TRAIN TO TRAIN\n",
    "    total_acc = 0.0\n",
    "    total_loss = 0.0\n",
    "    total = 0.0\n",
    "    batch_indices = list(chunks(range(trans_data.shape[0]), BATCH_SIZE))\n",
    "    batch_indices = np.array(batch_indices)\n",
    "    np.random.shuffle(batch_indices)\n",
    "    for this_batch in batch_indices:\n",
    "        this_batch = list(this_batch)\n",
    "\n",
    "        inner_data = Variable(torch.tensor(trans_data[this_batch], requires_grad=False))\n",
    "        inner_y = Variable(torch.tensor(train_y.iloc[this_batch].values))\n",
    "        #inner_y.weight.requires_grad = False\n",
    "        batch_lengths = sentence_lengths[this_batch]\n",
    "        model.zero_grad()\n",
    "        \n",
    "        model.hidden = model.init_hidden()\n",
    "        \n",
    "        output = prediction(inner_data, batch_lengths)\n",
    "        loss = loss_function(output, inner_y)\n",
    "        loss.backward()\n",
    "        \n",
    "        torch.nn.utils.clip_grad_norm_(model.parameters(), GRADIENT_CLIP)\n",
    "        \n",
    "        \n",
    "        optimizer.step()        \n",
    "        _, predicted = torch.max(output.data, 1)\n",
    "        total_acc += (predicted == inner_y).sum()\n",
    "        total += len(inner_y)\n",
    "        total_loss += loss.data.item()\n",
    "    train_loss_.append(1.0 * total_loss / total)\n",
    "    train_acc_.append(1.0 * total_acc.float() / total)\n",
    "    \n",
    "    #### TRAIN WITHOUT OPTIMIZE JUST TO GET PREDICTIONS IN SAME ORDER\n",
    "    batch_indices = chunks(range(trans_data.shape[0]), BATCH_SIZE)\n",
    "    for this_batch in batch_indices:\n",
    "        this_batch = list(this_batch)\n",
    "\n",
    "        inner_data = Variable(torch.tensor(trans_data[this_batch], requires_grad=False))\n",
    "        inner_y = Variable(torch.tensor(train_y.iloc[this_batch].values))\n",
    "        batch_lengths = sentence_lengths[this_batch]\n",
    "        model.zero_grad()\n",
    "        \n",
    "        model.hidden = model.init_hidden()\n",
    "        \n",
    "        output = prediction(inner_data, batch_lengths)        \n",
    "        train_predictions_tmp.append(output.data)\n",
    "    \n",
    "    ### TEST\n",
    "    total_acc = 0.0\n",
    "    total_loss = 0.0\n",
    "    total = 0.0\n",
    "    batch_indices = chunks(range(trans_test_data.shape[0]), BATCH_SIZE)\n",
    "    for this_batch in batch_indices:\n",
    "        this_batch = list(this_batch)\n",
    "        inner_data = Variable(torch.tensor(trans_test_data[this_batch], requires_grad=False))\n",
    "        inner_y = Variable(torch.tensor(test_y.iloc[this_batch].values))\n",
    "        batch_lengths = sentence_lengths_test[this_batch]\n",
    "        model.hidden = model.init_hidden()\n",
    "        \n",
    "        output = prediction(inner_data, batch_lengths)\n",
    "        loss = loss_function(output, inner_y)\n",
    "        test_predictions_tmp.append(output.data)\n",
    "        _, predicted = torch.max(output.data, 1)\n",
    "        total_acc += (predicted == inner_y).sum()\n",
    "        total += len(inner_y)\n",
    "        total_loss += loss.data.item()\n",
    "    test_loss_.append(total_loss / total)\n",
    "    test_acc_.append(total_acc.float() / total)\n",
    "    \n",
    "    total_acc = 0.0\n",
    "    total_loss = 0.0\n",
    "    total = 0.0\n",
    "    batch_indices = chunks(range(trans_test_data_bal.shape[0]), BATCH_SIZE)\n",
    "    for this_batch in batch_indices:\n",
    "        this_batch = list(this_batch)\n",
    "        inner_data = Variable(torch.tensor(trans_test_data_bal[this_batch], requires_grad=False))\n",
    "        inner_y = Variable(torch.tensor(test_y_bal.iloc[this_batch].values))\n",
    "        batch_lengths = sentence_lengths_test_bal[this_batch]\n",
    "\n",
    "        model.hidden = model.init_hidden()\n",
    "        output = prediction(inner_data, batch_lengths)\n",
    "        loss = loss_function(output, inner_y)\n",
    "        test_bal_predictions_tmp.append(output.data)\n",
    "        _, predicted = torch.max(output.data, 1)\n",
    "        total_acc += (predicted == inner_y).sum()\n",
    "        total += len(inner_y)\n",
    "        total_loss += loss.data.item()\n",
    "    test_bal_loss_.append(total_loss / total)\n",
    "    test_bal_acc_.append(total_acc.float() / total)\n",
    "\n",
    "    print(('[Epoch: %3d/%3d] Training Loss: %.6f, Testing Loss: %.6f, Test Balanced Loss: %.6f, '+\n",
    "          'Training Acc: %.6f, Testing Acc: %.6f, Testing Balanced Acc: %.6f')\\\n",
    "              % (epoch+1, EPOCHS, train_loss_[epoch], test_loss_[epoch], test_bal_loss_[epoch],\n",
    "                 train_acc_[epoch], test_acc_[epoch], test_bal_acc_[epoch]))"
   ]
  },
  {
   "cell_type": "code",
   "execution_count": 30,
   "metadata": {},
   "outputs": [],
   "source": [
    "torch.save(model.state_dict(), MODEL_PATH_LSTM)"
   ]
  },
  {
   "cell_type": "code",
   "execution_count": 31,
   "metadata": {},
   "outputs": [],
   "source": [
    "# get just the last epoch\n",
    "train_predictions = train_predictions_tmp[int(-len(train_predictions_tmp)/EPOCHS):]"
   ]
  },
  {
   "cell_type": "code",
   "execution_count": 32,
   "metadata": {},
   "outputs": [],
   "source": [
    "unpacked_train_predictions = []\n",
    "unpacked_train_predicted = []"
   ]
  },
  {
   "cell_type": "code",
   "execution_count": 33,
   "metadata": {},
   "outputs": [],
   "source": [
    "for i in range(len(train_predictions)):\n",
    "    d = torch.softmax(train_predictions[i], dim = 1).numpy()\n",
    "    for e in d:\n",
    "        unpacked_train_predictions.append(e[1])\n",
    "unpacked_train_predictions = np.array(unpacked_train_predictions)"
   ]
  },
  {
   "cell_type": "code",
   "execution_count": 34,
   "metadata": {},
   "outputs": [],
   "source": [
    "from sklearn import metrics\n",
    "import matplotlib.pyplot as plt"
   ]
  },
  {
   "cell_type": "code",
   "execution_count": 35,
   "metadata": {},
   "outputs": [
    {
     "name": "stdout",
     "output_type": "stream",
     "text": [
      "0.9908227055337971\n",
      "(0.7490144546649146, 0.9710391822827938, 0.8456973293768545)\n"
     ]
    }
   ],
   "source": [
    "fpr, tpr, threshold = metrics.roc_curve(train_y, unpacked_train_predictions)\n",
    "auc_train = metrics.auc(fpr, tpr)\n",
    "print(auc_train)\n",
    "PRF1 = metrics.precision_recall_fscore_support(train_y, unpacked_train_predictions.round(), average='binary')[:3]    \n",
    "print(PRF1)"
   ]
  },
  {
   "cell_type": "code",
   "execution_count": 36,
   "metadata": {},
   "outputs": [
    {
     "data": {
      "text/plain": [
       "0.9534675615212528"
      ]
     },
     "execution_count": 36,
     "metadata": {},
     "output_type": "execute_result"
    }
   ],
   "source": [
    "(train_y == unpacked_train_predictions.round()).sum() / len(train_y)"
   ]
  },
  {
   "cell_type": "code",
   "execution_count": 37,
   "metadata": {},
   "outputs": [
    {
     "data": {
      "text/plain": [
       "[<matplotlib.lines.Line2D at 0x7f39104d3b70>]"
      ]
     },
     "execution_count": 37,
     "metadata": {},
     "output_type": "execute_result"
    },
    {
     "data": {
      "image/png": "[encoded data removed]",
      "text/plain": [
       "<Figure size 432x288 with 1 Axes>"
      ]
     },
     "metadata": {
      "needs_background": "light"
     },
     "output_type": "display_data"
    }
   ],
   "source": [
    "plt.plot(fpr, tpr)"
   ]
  },
  {
   "cell_type": "code",
   "execution_count": 38,
   "metadata": {},
   "outputs": [],
   "source": [
    "test_predictions = test_predictions_tmp[int(-len(test_predictions_tmp)/EPOCHS):]"
   ]
  },
  {
   "cell_type": "code",
   "execution_count": 39,
   "metadata": {},
   "outputs": [],
   "source": [
    "unpacked_test_predictions = []"
   ]
  },
  {
   "cell_type": "code",
   "execution_count": 40,
   "metadata": {},
   "outputs": [],
   "source": [
    "for i in range(len(test_predictions)):\n",
    "    d = torch.softmax(test_predictions[i], dim = 1).numpy()\n",
    "    for e in d:\n",
    "        unpacked_test_predictions.append(e[1])\n",
    "unpacked_test_predictions = np.array(unpacked_test_predictions)"
   ]
  },
  {
   "cell_type": "code",
   "execution_count": 41,
   "metadata": {},
   "outputs": [
    {
     "data": {
      "text/plain": [
       "0.7290909090909091"
      ]
     },
     "execution_count": 41,
     "metadata": {},
     "output_type": "execute_result"
    }
   ],
   "source": [
    "(test_y == unpacked_test_predictions.round()).sum() / len(test_y)"
   ]
  },
  {
   "cell_type": "code",
   "execution_count": 42,
   "metadata": {},
   "outputs": [
    {
     "name": "stdout",
     "output_type": "stream",
     "text": [
      "0.5052275483088672\n",
      "(0.15625, 0.18072289156626506, 0.16759776536312848)\n"
     ]
    }
   ],
   "source": [
    "fpr, tpr, threshold = metrics.roc_curve(test_y, unpacked_test_predictions)\n",
    "auc_test = metrics.auc(fpr, tpr)\n",
    "PRF1 = metrics.precision_recall_fscore_support(test_y, unpacked_test_predictions.round(), average='binary')[:3]    \n",
    "print(auc_test)\n",
    "print(PRF1)"
   ]
  },
  {
   "cell_type": "code",
   "execution_count": 43,
   "metadata": {},
   "outputs": [
    {
     "data": {
      "text/plain": [
       "[<matplotlib.lines.Line2D at 0x7f391046f048>]"
      ]
     },
     "execution_count": 43,
     "metadata": {},
     "output_type": "execute_result"
    },
    {
     "data": {
      "image/png": "[encoded data removed]",
      "text/plain": [
       "<Figure size 432x288 with 1 Axes>"
      ]
     },
     "metadata": {
      "needs_background": "light"
     },
     "output_type": "display_data"
    }
   ],
   "source": [
    "plt.plot(fpr, tpr)"
   ]
  },
  {
   "cell_type": "code",
   "execution_count": 44,
   "metadata": {},
   "outputs": [],
   "source": [
    "test_predictions_bal = test_bal_predictions_tmp[int(-len(test_bal_predictions_tmp)/EPOCHS):]"
   ]
  },
  {
   "cell_type": "code",
   "execution_count": 45,
   "metadata": {},
   "outputs": [],
   "source": [
    "unpacked_test_predictions_bal = []"
   ]
  },
  {
   "cell_type": "code",
   "execution_count": 46,
   "metadata": {},
   "outputs": [],
   "source": [
    "for i in range(len(test_predictions_bal)):\n",
    "    d = torch.softmax(test_predictions_bal[i], dim = 1).numpy()\n",
    "    for e in d:\n",
    "        unpacked_test_predictions_bal.append(e[1])\n",
    "unpacked_test_predictions_bal = np.array(unpacked_test_predictions_bal)"
   ]
  },
  {
   "cell_type": "code",
   "execution_count": 47,
   "metadata": {},
   "outputs": [
    {
     "name": "stdout",
     "output_type": "stream",
     "text": [
      "0.5195703125000001\n",
      "(0.49122807017543857, 0.175, 0.2580645161290322)\n"
     ]
    }
   ],
   "source": [
    "fpr, tpr, threshold = metrics.roc_curve(test_y_bal, unpacked_test_predictions_bal)\n",
    "auc_test_bal = metrics.auc(fpr, tpr)\n",
    "PRF1 = metrics.precision_recall_fscore_support(test_y_bal, unpacked_test_predictions_bal.round(), average='binary')[:3]    \n",
    "print(auc_test_bal)\n",
    "print(PRF1)"
   ]
  },
  {
   "cell_type": "code",
   "execution_count": 48,
   "metadata": {},
   "outputs": [
    {
     "name": "stdout",
     "output_type": "stream",
     "text": [
      "DescribeResult(nobs=4470, minmax=(5.1524843e-05, 0.99978846), mean=0.21664375, variance=0.09945742, skewness=1.5599913597106934, kurtosis=0.8593915728694452)\n",
      "DescribeResult(nobs=1100, minmax=(0.00013252927, 0.99418056), mean=0.22413759, variance=0.07956627, skewness=1.3597716093063354, kurtosis=0.6033691605789393)\n",
      "DescribeResult(nobs=320, minmax=(0.00024951427, 0.9816472), mean=0.2191365, variance=0.080991715, skewness=1.3720049858093262, kurtosis=0.5948175694742557)\n"
     ]
    }
   ],
   "source": [
    "from scipy import stats\n",
    "\n",
    "print(stats.describe(unpacked_train_predictions))\n",
    "print(stats.describe(unpacked_test_predictions))\n",
    "print(stats.describe(unpacked_test_predictions_bal))"
   ]
  },
  {
   "cell_type": "code",
   "execution_count": 49,
   "metadata": {},
   "outputs": [],
   "source": [
    "train_acc_ = np.array([x.numpy() for x in train_acc_])\n",
    "test_acc_ = np.array([x.numpy() for x in test_acc_])\n",
    "test_bal_acc_ = np.array([x.numpy() for x in test_bal_acc_])"
   ]
  },
  {
   "cell_type": "code",
   "execution_count": 50,
   "metadata": {},
   "outputs": [],
   "source": [
    "train_loss_ = np.array(train_loss_)\n",
    "test_loss_ = np.array(test_loss_)\n",
    "test_bal_loss_ = np.array(test_bal_loss_)"
   ]
  },
  {
   "cell_type": "code",
   "execution_count": 51,
   "metadata": {},
   "outputs": [],
   "source": [
    "np.save('../data/train_acc', train_acc_)\n",
    "np.save('../data/test_acc_', test_acc_)\n",
    "np.save('../data/test_bal_acc_', test_bal_acc_)\n",
    "np.save('../data/train_loss_', train_loss_)\n",
    "np.save('../data/test_loss_', test_loss_)\n",
    "np.save('../data/test_bal_loss_', test_bal_loss_)"
   ]
  },
  {
   "cell_type": "code",
   "execution_count": null,
   "metadata": {},
   "outputs": [],
   "source": []
  }
 ],
 "metadata": {
  "kernelspec": {
   "display_name": "Python 3",
   "language": "python",
   "name": "python3"
  },
  "language_info": {
   "codemirror_mode": {
    "name": "ipython",
    "version": 3
   },
   "file_extension": ".py",
   "mimetype": "text/x-python",
   "name": "python",
   "nbconvert_exporter": "python",
   "pygments_lexer": "ipython3",
   "version": "3.7.0"
  }
 },
 "nbformat": 4,
 "nbformat_minor": 2
}
