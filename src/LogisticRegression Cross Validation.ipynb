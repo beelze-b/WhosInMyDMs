{
 "cells": [
  {
   "cell_type": "code",
   "execution_count": 9,
   "metadata": {},
   "outputs": [],
   "source": [
    "import pandas as pd\n",
    "import numpy as np\n",
    "\n",
    "from sklearn import preprocessing\n",
    "from sklearn.feature_extraction.text import CountVectorizer\n",
    "from sklearn.metrics import roc_curve, auc\n",
    "\n",
    "\n",
    "import torch\n",
    "import torch.nn as nn\n",
    "import torch.nn.functional as F\n",
    "import torch.optim as optim\n",
    "\n",
    "from sklearn.linear_model import LogisticRegression\n",
    "\n",
    "import itertools"
   ]
  },
  {
   "cell_type": "code",
   "execution_count": 2,
   "metadata": {},
   "outputs": [],
   "source": [
    "parameters = {'penalty': ['l1', 'l2'], 'C': [1, 5, 10], 'probability': [True]}"
   ]
  },
  {
   "cell_type": "code",
   "execution_count": 3,
   "metadata": {},
   "outputs": [
    {
     "data": {
      "text/plain": [
       "<zip at 0x1a1a447848>"
      ]
     },
     "execution_count": 3,
     "metadata": {},
     "output_type": "execute_result"
    }
   ],
   "source": [
    "zip(parameters)"
   ]
  },
  {
   "cell_type": "code",
   "execution_count": 20,
   "metadata": {},
   "outputs": [
    {
     "name": "stdout",
     "output_type": "stream",
     "text": [
      "_penalty:l1_C:1\n",
      "_penalty:l1_C:5\n",
      "_penalty:l1_C:10\n",
      "_penalty:l2_C:1\n",
      "_penalty:l2_C:5\n",
      "_penalty:l2_C:10\n"
     ]
    }
   ],
   "source": [
    "keys, values = zip(*parameters.items())\n",
    "for v in itertools.product(*values):    \n",
    "    experiment = dict(zip(keys, v))\n",
    "    #print(*experiment)\n",
    "    #print(experiment)\n",
    "    inside_key = \"\"\n",
    "    for e in experiment:\n",
    "        inside_key = inside_key + \"_\" + e + ':' + str(experiment[e])\n",
    "    print(inside_key)\n",
    "    model = LogisticRegression(**experiment)\n",
    "    #print(model)"
   ]
  },
  {
   "cell_type": "code",
   "execution_count": null,
   "metadata": {},
   "outputs": [],
   "source": []
  },
  {
   "cell_type": "code",
   "execution_count": null,
   "metadata": {},
   "outputs": [],
   "source": []
  }
 ],
 "metadata": {
  "kernelspec": {
   "display_name": "Python 3",
   "language": "python",
   "name": "python3"
  },
  "language_info": {
   "codemirror_mode": {
    "name": "ipython",
    "version": 3
   },
   "file_extension": ".py",
   "mimetype": "text/x-python",
   "name": "python",
   "nbconvert_exporter": "python",
   "pygments_lexer": "ipython3",
   "version": "3.6.7"
  }
 },
 "nbformat": 4,
 "nbformat_minor": 2
}
