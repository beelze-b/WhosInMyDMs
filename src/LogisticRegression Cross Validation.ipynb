{
 "cells": [
  {
   "cell_type": "code",
   "execution_count": 1,
   "metadata": {},
   "outputs": [],
   "source": [
    "import pandas as pd\n",
    "import numpy as np\n",
    "\n",
    "from sklearn import preprocessing\n",
    "from sklearn.feature_extraction.text import CountVectorizer\n",
    "from sklearn.feature_extraction.text import TfidfVectorizer\n",
    "from sklearn.feature_extraction.stop_words import ENGLISH_STOP_WORDS\n",
    "from sklearn import metrics\n",
    "from sklearn.linear_model import LogisticRegression\n",
    "from sklearn.model_selection import KFold\n",
    "\n",
    "import torch\n",
    "import torch.nn as nn\n",
    "import torch.nn.functional as F\n",
    "import torch.optim as optim\n",
    "\n",
    "\n",
    "import itertools"
   ]
  },
  {
   "cell_type": "markdown",
   "metadata": {},
   "source": [
    "### Little bit of data preprocessing. Rest happens inside cross validation function"
   ]
  },
  {
   "cell_type": "code",
   "execution_count": 2,
   "metadata": {},
   "outputs": [],
   "source": [
    "data = pd.read_csv('../data/SMSSpamCollection', sep='\\t', header=None)\n",
    "data['Text'] = data[1].str.replace('[^\\w\\s]','')\n",
    "data.columns = ['label', 'Full Text', 'Text']\n",
    "data['Lower Case Text'] = data['Text'].str.lower()"
   ]
  },
  {
   "cell_type": "code",
   "execution_count": 3,
   "metadata": {},
   "outputs": [],
   "source": [
    "labels, counts = np.unique(data['label'], return_counts=True)\n",
    "encoder = preprocessing.LabelEncoder()\n",
    "encoder.fit(labels[np.argsort(-counts)])\n",
    "data['y'] = encoder.transform(data['label'])"
   ]
  },
  {
   "cell_type": "code",
   "execution_count": 4,
   "metadata": {},
   "outputs": [],
   "source": [
    "np.random.seed(42)\n",
    "mask_train = np.random.random(data.shape[0]) < 0.8\n",
    "data_train = data[mask_train]\n",
    "data_test = data.iloc[~mask_train, :]"
   ]
  },
  {
   "cell_type": "markdown",
   "metadata": {},
   "source": [
    "### Load word2vec stuff"
   ]
  },
  {
   "cell_type": "code",
   "execution_count": 5,
   "metadata": {},
   "outputs": [],
   "source": [
    "#up sample data train for word2vec vocabulary\n",
    "countToIncrease_word = data_train[data_train['y'] == 0].shape[0] - data_train[data_train['y'] == 1].shape[0]\n",
    "spamupsampled_word = data_train[data_train['y'] == 1].sample(n=countToIncrease_word, replace=True)\n",
    "data_train_upsample_word2vec = pd.concat([spamupsampled_word, data_train])"
   ]
  },
  {
   "cell_type": "code",
   "execution_count": 6,
   "metadata": {},
   "outputs": [],
   "source": [
    "count_vect_sing_word = CountVectorizer(stop_words=ENGLISH_STOP_WORDS)\n",
    "count_vect_sing_word.fit(data_train_upsample_word2vec['Lower Case Text'])\n",
    "tokenizer_word = count_vect_sing_word.build_tokenizer()"
   ]
  },
  {
   "cell_type": "code",
   "execution_count": 7,
   "metadata": {},
   "outputs": [],
   "source": [
    "VOCAB_SIZE = len(count_vect_sing_word.vocabulary_)\n",
    "EMBEDDING_SIZE = 300\n",
    "word_to_ix = count_vect_sing_word.vocabulary_"
   ]
  },
  {
   "cell_type": "code",
   "execution_count": 8,
   "metadata": {},
   "outputs": [],
   "source": [
    "class TwoGramLanguageModeler(nn.Module):\n",
    "    def __init__(self, vocab_size, embedding_dim, context_size):\n",
    "        super(TwoGramLanguageModeler, self).__init__()\n",
    "        self.embeddings = nn.Embedding(vocab_size, embedding_dim)\n",
    "        self.linear1 = nn.Linear(context_size * embedding_dim, 128)\n",
    "        self.linear2 = nn.Linear(128, vocab_size)\n",
    "    \n",
    "    def forward(self, inputs):\n",
    "        embeds = self.embeddings(inputs).view((1, -1))\n",
    "        out = F.relu(self.linear1(embeds))\n",
    "        out = self.linear2(out)\n",
    "        log_probs = F.log_softmax(out, dim=1)\n",
    "        return log_probs"
   ]
  },
  {
   "cell_type": "code",
   "execution_count": 9,
   "metadata": {},
   "outputs": [],
   "source": [
    "CONTEXT_SIZE = 1\n",
    "EMBEDDING_DIM = EMBEDDING_SIZE"
   ]
  },
  {
   "cell_type": "code",
   "execution_count": 10,
   "metadata": {},
   "outputs": [],
   "source": [
    "word2vec_model = TwoGramLanguageModeler(VOCAB_SIZE, EMBEDDING_DIM, CONTEXT_SIZE)"
   ]
  },
  {
   "cell_type": "code",
   "execution_count": 11,
   "metadata": {},
   "outputs": [
    {
     "data": {
      "text/plain": [
       "TwoGramLanguageModeler(\n",
       "  (embeddings): Embedding(8111, 300)\n",
       "  (linear1): Linear(in_features=300, out_features=128, bias=True)\n",
       "  (linear2): Linear(in_features=128, out_features=8111, bias=True)\n",
       ")"
      ]
     },
     "execution_count": 11,
     "metadata": {},
     "output_type": "execute_result"
    }
   ],
   "source": [
    "MODEL_PATH = '../data/word_2vec_model'\n",
    "word_embeddings = word2vec_model.embeddings\n",
    "word2vec_model.load_state_dict(torch.load(MODEL_PATH))\n",
    "word2vec_model.eval()"
   ]
  },
  {
   "cell_type": "code",
   "execution_count": 12,
   "metadata": {},
   "outputs": [],
   "source": [
    "# count_vect_sing_word is a CountVectorizer\n",
    "def _indicesForSentence(input_str, tokenizer = tokenizer_word, count_vect = count_vect_sing_word):\n",
    "    input_str = list(filter(lambda x: x in count_vect.vocabulary_, tokenizer(input_str)))\n",
    "    return torch.tensor([[word_to_ix[word]] for word in input_str], dtype=torch.long)\n",
    "\n",
    "def getEmbedding(word_index_tensor, embedder):\n",
    "    embedder(word_index_tensor)\n",
    "def sentenceToNumpyInstance(input_str, embedder):\n",
    "    embeddings = embedder(_indicesForSentence(input_str))\n",
    "    if embeddings.shape == torch.Size([0]):\n",
    "        return np.zeros(EMBEDDING_SIZE)\n",
    "    else:\n",
    "        x = torch.sum(embeddings, dim = 0)\n",
    "        return torch.Tensor.numpy(x.detach())[0]\n",
    "    \n",
    "def word2vec_transform(data, embeddings, field = 'Lower Case Text'):\n",
    "    return np.array(data[field].apply(sentenceToNumpyInstance, embedder=embeddings).values.tolist())"
   ]
  },
  {
   "cell_type": "markdown",
   "metadata": {},
   "source": [
    "### Ending of Word2Vec initialization\n",
    "\n",
    "### Cross-Validation"
   ]
  },
  {
   "cell_type": "code",
   "execution_count": 13,
   "metadata": {},
   "outputs": [],
   "source": [
    "# dataset is supposed to be the normal trained data\n",
    "## vectorizer is supposed to be the constructor\n",
    "def crossval(dataset, model_func, parametersModel, embeddings = word_embeddings, vectorizer = None, \n",
    "             label_name = 'y', text_field = 'Lower Case Text', k_folds = 5): \n",
    "    aucs = {}\n",
    "    folds = list(KFold(n_splits=k_folds).split(dataset))\n",
    "    for fold in range(k_folds):\n",
    "        cv_train = dataset.iloc[folds[fold][0]]\n",
    "        cv_validate = dataset.iloc[folds[fold][1]]\n",
    "    \n",
    "        countToIncrease = cv_train[cv_train['y'] == 0].shape[0] - cv_train[cv_train['y'] == 1].shape[0]\n",
    "        spamupsampled = cv_train[cv_train['y'] == 1].sample(n=countToIncrease, replace=True)\n",
    "        cv_train = pd.concat([spamupsampled, cv_train])\n",
    "        \n",
    "        if vectorizer is not None:\n",
    "            cv_train_features = vectorizer.fit_transform(cv_train[text_field])\n",
    "            cv_train_y = cv_train[label_name]\n",
    "            cv_validate_features = vectorizer.transform(cv_validate[text_field])\n",
    "            cv_validate_y = cv_validate[label_name]\n",
    "        else:\n",
    "            # LOAD word to vec\n",
    "            cv_train_features = word2vec_transform(cv_train, embeddings)\n",
    "            cv_train_y = cv_train[label_name]\n",
    "            cv_validate_features = word2vec_transform(cv_validate, embeddings)\n",
    "            cv_validate_y = cv_validate[label_name]\n",
    "        \n",
    "        keys, values = zip(*parametersModel.items())\n",
    "                \n",
    "        for v in itertools.product(*values):    \n",
    "            experiment = dict(zip(keys, v))\n",
    "            m = model_func(**experiment)\n",
    "\n",
    "            m.fit(cv_train_features, cv_train_y)\n",
    "            y_preds = m.predict_proba(cv_validate_features)[:, 1]\n",
    "            fpr, tpr, threshold = metrics.roc_curve(cv_validate_y, y_preds)\n",
    "            auc_val = metrics.auc(fpr, tpr)  \n",
    "            \n",
    "            inside_key = \"\"\n",
    "\n",
    "            for e in experiment:\n",
    "                inside_key = inside_key + \"_\" + e + ':' + str(experiment[e])\n",
    "            \n",
    "            if not inside_key in aucs:\n",
    "                aucs[inside_key] = []\n",
    "                aucs[inside_key].append(auc_val)\n",
    "            else:\n",
    "                aucs[inside_key].append(auc_val)\n",
    "    return aucs"
   ]
  },
  {
   "cell_type": "code",
   "execution_count": 14,
   "metadata": {},
   "outputs": [],
   "source": [
    "LR_parameters = {'penalty': ['l1', 'l2'], 'C': [1, 5, 10]}\n",
    "\n",
    "count_vect = CountVectorizer(min_df=2, stop_words=ENGLISH_STOP_WORDS)\n",
    "tfidf_vect = TfidfVectorizer(min_df=2, stop_words=ENGLISH_STOP_WORDS)\n",
    "bigram_count_vect = CountVectorizer(min_df=2, stop_words=ENGLISH_STOP_WORDS, ngram_range = (2,2))\n",
    "bigram_tfidf_vect = TfidfVectorizer(min_df=2, stop_words=ENGLISH_STOP_WORDS, ngram_range = (2,2))\n",
    "ngram_count_vect = CountVectorizer(min_df=2, stop_words=ENGLISH_STOP_WORDS, ngram_range = (1,2))\n",
    "ngram_tfidf_vect = TfidfVectorizer(min_df=2, stop_words=ENGLISH_STOP_WORDS, ngram_range = (1,2))"
   ]
  },
  {
   "cell_type": "code",
   "execution_count": 15,
   "metadata": {},
   "outputs": [],
   "source": [
    "aucs_count_default = crossval(data_train, LogisticRegression, LR_parameters, vectorizer = count_vect)"
   ]
  },
  {
   "cell_type": "code",
   "execution_count": 16,
   "metadata": {},
   "outputs": [],
   "source": [
    "aucs_tfidf_default = crossval(data_train, LogisticRegression, LR_parameters, vectorizer = tfidf_vect)"
   ]
  },
  {
   "cell_type": "code",
   "execution_count": 17,
   "metadata": {},
   "outputs": [],
   "source": [
    "aucs_count_bigram = crossval(data_train, LogisticRegression, LR_parameters, vectorizer = bigram_count_vect)"
   ]
  },
  {
   "cell_type": "code",
   "execution_count": 18,
   "metadata": {},
   "outputs": [],
   "source": [
    "aucs_tfidf_bigram = crossval(data_train, LogisticRegression, LR_parameters, vectorizer = bigram_tfidf_vect)"
   ]
  },
  {
   "cell_type": "code",
   "execution_count": 19,
   "metadata": {},
   "outputs": [],
   "source": [
    "aucs_count_ngram = crossval(data_train, LogisticRegression, LR_parameters, vectorizer = ngram_count_vect)"
   ]
  },
  {
   "cell_type": "code",
   "execution_count": 20,
   "metadata": {},
   "outputs": [],
   "source": [
    "aucs_tfidf_ngram = crossval(data_train, LogisticRegression, LR_parameters, vectorizer = ngram_tfidf_vect)"
   ]
  },
  {
   "cell_type": "code",
   "execution_count": 21,
   "metadata": {},
   "outputs": [],
   "source": [
    "# defaults to word 2 vec\n",
    "aucs_word_2_vec = crossval(data_train, LogisticRegression, LR_parameters, vectorizer = None)"
   ]
  },
  {
   "cell_type": "code",
   "execution_count": 22,
   "metadata": {},
   "outputs": [],
   "source": [
    "def processAUCsResults(aucs_dict):\n",
    "    aucs = {}\n",
    "    max_auc = -1\n",
    "    confs = \"\"\n",
    "    for e in aucs_dict:\n",
    "        mean_auc = np.mean(aucs_dict[e])\n",
    "        aucs['LR'+ e] = mean_auc\n",
    "        if mean_auc >= max_auc:\n",
    "            confs = e\n",
    "            max_auc = mean_auc\n",
    "    return aucs, 'Parameters with max AUC: {}'.format(confs)"
   ]
  },
  {
   "cell_type": "code",
   "execution_count": 23,
   "metadata": {},
   "outputs": [
    {
     "name": "stdout",
     "output_type": "stream",
     "text": [
      "({'LR_penalty:l1_C:1': 0.9773236078929284, 'LR_penalty:l1_C:5': 0.9811967581388616, 'LR_penalty:l1_C:10': 0.9822157110149817, 'LR_penalty:l2_C:1': 0.9889649363700389, 'LR_penalty:l2_C:5': 0.989242491721642, 'LR_penalty:l2_C:10': 0.9892710516402273}, 'Parameters with max AUC: _penalty:l2_C:10')\n"
     ]
    }
   ],
   "source": [
    "print(processAUCsResults(aucs_count_default))"
   ]
  },
  {
   "cell_type": "code",
   "execution_count": 24,
   "metadata": {},
   "outputs": [
    {
     "name": "stdout",
     "output_type": "stream",
     "text": [
      "({'LR_penalty:l1_C:1': 0.9765655450930384, 'LR_penalty:l1_C:5': 0.9792745496947879, 'LR_penalty:l1_C:10': 0.9796767743258087, 'LR_penalty:l2_C:1': 0.9886230964977036, 'LR_penalty:l2_C:5': 0.9896713875234973, 'LR_penalty:l2_C:10': 0.9898372840630074}, 'Parameters with max AUC: _penalty:l2_C:10')\n"
     ]
    }
   ],
   "source": [
    "print(processAUCsResults(aucs_tfidf_default))"
   ]
  },
  {
   "cell_type": "code",
   "execution_count": 25,
   "metadata": {},
   "outputs": [
    {
     "name": "stdout",
     "output_type": "stream",
     "text": [
      "({'LR_penalty:l1_C:1': 0.8804155376953771, 'LR_penalty:l1_C:5': 0.8881267930829244, 'LR_penalty:l1_C:10': 0.8894839412036616, 'LR_penalty:l2_C:1': 0.9454633349453758, 'LR_penalty:l2_C:5': 0.9454256474566112, 'LR_penalty:l2_C:10': 0.9456754610212901}, 'Parameters with max AUC: _penalty:l2_C:10')\n"
     ]
    }
   ],
   "source": [
    "print(processAUCsResults(aucs_count_bigram))"
   ]
  },
  {
   "cell_type": "code",
   "execution_count": 26,
   "metadata": {},
   "outputs": [
    {
     "name": "stdout",
     "output_type": "stream",
     "text": [
      "({'LR_penalty:l1_C:1': 0.8816506830018062, 'LR_penalty:l1_C:5': 0.8886509161997713, 'LR_penalty:l1_C:10': 0.8907513828262168, 'LR_penalty:l2_C:1': 0.9445047820735075, 'LR_penalty:l2_C:5': 0.9442792840158292, 'LR_penalty:l2_C:10': 0.945394088013553}, 'Parameters with max AUC: _penalty:l2_C:10')\n"
     ]
    }
   ],
   "source": [
    "print(processAUCsResults(aucs_tfidf_bigram))"
   ]
  },
  {
   "cell_type": "code",
   "execution_count": 27,
   "metadata": {},
   "outputs": [
    {
     "name": "stdout",
     "output_type": "stream",
     "text": [
      "({'LR_penalty:l1_C:1': 0.977876295635333, 'LR_penalty:l1_C:5': 0.9803703653650471, 'LR_penalty:l1_C:10': 0.9821558683472638, 'LR_penalty:l2_C:1': 0.989369208823606, 'LR_penalty:l2_C:5': 0.9899661401496254, 'LR_penalty:l2_C:10': 0.9901976985866373}, 'Parameters with max AUC: _penalty:l2_C:10')\n"
     ]
    }
   ],
   "source": [
    "print(processAUCsResults(aucs_count_ngram))"
   ]
  },
  {
   "cell_type": "code",
   "execution_count": 28,
   "metadata": {},
   "outputs": [
    {
     "name": "stdout",
     "output_type": "stream",
     "text": [
      "({'LR_penalty:l1_C:1': 0.9739376625963034, 'LR_penalty:l1_C:5': 0.9778216261204793, 'LR_penalty:l1_C:10': 0.977672444615731, 'LR_penalty:l2_C:1': 0.9858649183438238, 'LR_penalty:l2_C:5': 0.98763164865167, 'LR_penalty:l2_C:10': 0.9879518962811862}, 'Parameters with max AUC: _penalty:l2_C:10')\n"
     ]
    }
   ],
   "source": [
    "print(processAUCsResults(aucs_tfidf_ngram))"
   ]
  },
  {
   "cell_type": "code",
   "execution_count": 29,
   "metadata": {},
   "outputs": [
    {
     "name": "stdout",
     "output_type": "stream",
     "text": [
      "({'LR_penalty:l1_C:1': 0.9261876868115941, 'LR_penalty:l1_C:5': 0.9221642388573885, 'LR_penalty:l1_C:10': 0.921373936391967, 'LR_penalty:l2_C:1': 0.9261794908199436, 'LR_penalty:l2_C:5': 0.9238146489516403, 'LR_penalty:l2_C:10': 0.9228254582263651}, 'Parameters with max AUC: _penalty:l1_C:1')\n"
     ]
    }
   ],
   "source": [
    "print(processAUCsResults(aucs_word_2_vec))"
   ]
  },
  {
   "cell_type": "code",
   "execution_count": 30,
   "metadata": {},
   "outputs": [],
   "source": [
    "### run through with all training data on best parameters:\n",
    "\n",
    "# need to upsample the data_train\n",
    "# fit the vectorizer\n",
    "# model should be an instantiated model\n",
    "# returns the TEST AUC on normal rate and upsampled test\n",
    "def train_test_run(data_train, data_test, model, embeddings = word_embeddings, vectorizer = None, \n",
    "                   label_name = 'y', text_field = 'Lower Case Text'):\n",
    "\n",
    "    countToIncrease = data_train[data_train['y'] == 0].shape[0] - data_train[data_train['y'] == 1].shape[0]\n",
    "    spamupsampled = data_train[data_train['y'] == 1].sample(n=countToIncrease, replace=True)\n",
    "    data_train = pd.concat([spamupsampled, data_train])\n",
    "    \n",
    "    downsampled_ham = data_test[data_test['y'] == 0].sample(n=data_test[data_test['y'] == 1].shape[0])\n",
    "    # the name really should be _downsample, but i dont wanna fix code right now\n",
    "    data_test_upsample = pd.concat([downsampled_ham, data_test[data_test['y'] == 1]])\n",
    "\n",
    "    if vectorizer is not None:\n",
    "        data_train_features = vectorizer.fit_transform(data_train[text_field])\n",
    "        data_train_y = data_train[label_name]\n",
    "        data_test_features = vectorizer.transform(data_test[text_field])\n",
    "        data_test_y = data_test[label_name]\n",
    "        data_test_upsample_features = vectorizer.transform(data_test_upsample[text_field])\n",
    "        data_test_upsample_y = data_test_upsample[label_name]\n",
    "    else:\n",
    "        # LOAD word to vec\n",
    "        data_train_features = word2vec_transform(data_train, embeddings)\n",
    "        data_train_y = data_train[label_name]\n",
    "        data_test_features = word2vec_transform(data_test, embeddings)\n",
    "        data_test_y = data_test[label_name]\n",
    "        data_test_upsample_features = word2vec_transform(data_test_upsample, embeddings)\n",
    "        data_test_upsample_y = data_test_upsample[label_name]\n",
    "        \n",
    "    model.fit(data_train_features, data_train_y)\n",
    "    y_preds = model.predict_proba(data_test_features)[:, 1]\n",
    "    fpr, tpr, threshold = metrics.roc_curve(data_test_y, y_preds)\n",
    "    y_preds_upsample = model.predict_proba(data_test_upsample_features)[:, 1]\n",
    "    fpr_upsample, tpr_upsample, threshold_upsample = metrics.roc_curve(data_test_upsample_y, y_preds_upsample)\n",
    "    auc_reg = metrics.auc(fpr, tpr)\n",
    "    auc_upsample = metrics.auc(fpr_upsample, tpr_upsample)\n",
    "    PRF1 = metrics.precision_recall_fscore_support(data_test_y, model.predict(data_test_features), average='binary')[:3]    \n",
    "    return 'AUC: {}, AUC upsampled: {}, Precision: {}, Recall: {}, F1: {}'.format(auc_reg, auc_upsample, PRF1[0], PRF1[1], PRF1[2]) "
   ]
  },
  {
   "cell_type": "code",
   "execution_count": 31,
   "metadata": {},
   "outputs": [
    {
     "data": {
      "text/plain": [
       "'AUC: 0.9837854603125878, AUC upsampled: 0.9847946000870953, Precision: 0.986013986013986, Recall: 0.8493975903614458, F1: 0.912621359223301'"
      ]
     },
     "execution_count": 31,
     "metadata": {},
     "output_type": "execute_result"
    }
   ],
   "source": [
    "train_test_run(data_train, data_test, LogisticRegression(penalty='l2', C = 10), vectorizer=count_vect)"
   ]
  },
  {
   "cell_type": "code",
   "execution_count": 32,
   "metadata": {},
   "outputs": [
    {
     "data": {
      "text/plain": [
       "'AUC: 0.9905641674980176, AUC upsampled: 0.9915263463492524, Precision: 0.972972972972973, Recall: 0.8674698795180723, F1: 0.9171974522292995'"
      ]
     },
     "execution_count": 32,
     "metadata": {},
     "output_type": "execute_result"
    }
   ],
   "source": [
    "train_test_run(data_train, data_test, LogisticRegression(penalty='l2', C = 10), vectorizer=tfidf_vect)"
   ]
  },
  {
   "cell_type": "code",
   "execution_count": 33,
   "metadata": {},
   "outputs": [
    {
     "data": {
      "text/plain": [
       "'AUC: 0.9389244877599571, AUC upsampled: 0.9391239657424881, Precision: 1.0, Recall: 0.6204819277108434, F1: 0.7657992565055762'"
      ]
     },
     "execution_count": 33,
     "metadata": {},
     "output_type": "execute_result"
    }
   ],
   "source": [
    "train_test_run(data_train, data_test, LogisticRegression(penalty='l2', C = 10), vectorizer=bigram_count_vect)"
   ]
  },
  {
   "cell_type": "code",
   "execution_count": 34,
   "metadata": {},
   "outputs": [
    {
     "data": {
      "text/plain": [
       "'AUC: 0.9413481953290871, AUC upsampled: 0.9391058208738567, Precision: 1.0, Recall: 0.7349397590361446, F1: 0.8472222222222222'"
      ]
     },
     "execution_count": 34,
     "metadata": {},
     "output_type": "execute_result"
    }
   ],
   "source": [
    "train_test_run(data_train, data_test, LogisticRegression(penalty='l2', C = 10), vectorizer=bigram_tfidf_vect)"
   ]
  },
  {
   "cell_type": "code",
   "execution_count": 35,
   "metadata": {},
   "outputs": [
    {
     "data": {
      "text/plain": [
       "'AUC: 0.9849045864988616, AUC upsampled: 0.984994193642038, Precision: 1.0, Recall: 0.8192771084337349, F1: 0.9006622516556291'"
      ]
     },
     "execution_count": 35,
     "metadata": {},
     "output_type": "execute_result"
    }
   ],
   "source": [
    "train_test_run(data_train, data_test, LogisticRegression(penalty='l2', C = 10), vectorizer=ngram_count_vect)"
   ]
  },
  {
   "cell_type": "code",
   "execution_count": 36,
   "metadata": {},
   "outputs": [
    {
     "data": {
      "text/plain": [
       "'AUC: 0.9906792776200344, AUC upsampled: 0.9927964871534329, Precision: 0.9931506849315068, Recall: 0.8734939759036144, F1: 0.9294871794871794'"
      ]
     },
     "execution_count": 36,
     "metadata": {},
     "output_type": "execute_result"
    }
   ],
   "source": [
    "train_test_run(data_train, data_test, LogisticRegression(penalty='l2', C = 10), vectorizer=ngram_tfidf_vect)"
   ]
  },
  {
   "cell_type": "code",
   "execution_count": 37,
   "metadata": {},
   "outputs": [
    {
     "data": {
      "text/plain": [
       "'AUC: 0.9267899623973601, AUC upsampled: 0.9250072579474525, Precision: 0.75, Recall: 0.8313253012048193, F1: 0.7885714285714285'"
      ]
     },
     "execution_count": 37,
     "metadata": {},
     "output_type": "execute_result"
    }
   ],
   "source": [
    "# defaults to word 2 vec\n",
    "train_test_run(data_train, data_test, LogisticRegression(penalty='l2', C = 1), vectorizer = None)"
   ]
  },
  {
   "cell_type": "markdown",
   "metadata": {},
   "source": [
    "## Word Embeddings"
   ]
  },
  {
   "cell_type": "code",
   "execution_count": 95,
   "metadata": {},
   "outputs": [
    {
     "data": {
      "text/plain": [
       "(5572, 9279)"
      ]
     },
     "execution_count": 95,
     "metadata": {},
     "output_type": "execute_result"
    }
   ],
   "source": [
    "a = ENGLISH_STOP_WORDS\n",
    "\n",
    "full_data = data['Text'].tolist()\n",
    "\n",
    "cv = CountVectorizer(binary = True, stop_words = a)\n",
    "\n",
    "full_data_transformed = cv.fit_transform(full_data)\n",
    "fd = pd.DataFrame(full_data_transformed.toarray(), columns = cv.get_feature_names())\n",
    "fd.shape"
   ]
  },
  {
   "cell_type": "code",
   "execution_count": 131,
   "metadata": {},
   "outputs": [
    {
     "data": {
      "text/html": [
       "<div>\n",
       "<style scoped>\n",
       "    .dataframe tbody tr th:only-of-type {\n",
       "        vertical-align: middle;\n",
       "    }\n",
       "\n",
       "    .dataframe tbody tr th {\n",
       "        vertical-align: top;\n",
       "    }\n",
       "\n",
       "    .dataframe thead th {\n",
       "        text-align: right;\n",
       "    }\n",
       "</style>\n",
       "<table border=\"1\" class=\"dataframe\">\n",
       "  <thead>\n",
       "    <tr style=\"text-align: right;\">\n",
       "      <th></th>\n",
       "      <th>index</th>\n",
       "      <th>0</th>\n",
       "    </tr>\n",
       "  </thead>\n",
       "  <tbody>\n",
       "    <tr>\n",
       "      <th>1085</th>\n",
       "      <td>1085</td>\n",
       "      <td>53</td>\n",
       "    </tr>\n",
       "    <tr>\n",
       "      <th>1863</th>\n",
       "      <td>1863</td>\n",
       "      <td>51</td>\n",
       "    </tr>\n",
       "    <tr>\n",
       "      <th>2370</th>\n",
       "      <td>2370</td>\n",
       "      <td>51</td>\n",
       "    </tr>\n",
       "    <tr>\n",
       "      <th>5104</th>\n",
       "      <td>5104</td>\n",
       "      <td>51</td>\n",
       "    </tr>\n",
       "    <tr>\n",
       "      <th>2434</th>\n",
       "      <td>2434</td>\n",
       "      <td>49</td>\n",
       "    </tr>\n",
       "  </tbody>\n",
       "</table>\n",
       "</div>"
      ],
      "text/plain": [
       "      index   0\n",
       "1085   1085  53\n",
       "1863   1863  51\n",
       "2370   2370  51\n",
       "5104   5104  51\n",
       "2434   2434  49"
      ]
     },
     "execution_count": 131,
     "metadata": {},
     "output_type": "execute_result"
    }
   ],
   "source": [
    "sums = pd.DataFrame(fd.sum(axis=1))\n",
    "sums = sums.reset_index()\n",
    "sums.sort_values(by=0, ascending=False).head(5)"
   ]
  },
  {
   "cell_type": "code",
   "execution_count": 38,
   "metadata": {},
   "outputs": [],
   "source": [
    "# count_vect_sing_word is a CountVectorizer\n",
    "def _indicesForSentence(input_str, tokenizer = tokenizer_word, count_vect = count_vect_sing_word):\n",
    "    input_str = list(filter(lambda x: x in count_vect.vocabulary_, tokenizer(input_str)))\n",
    "    return torch.tensor([[word_to_ix[word]] for word in input_str], dtype=torch.long)\n",
    "\n",
    "def sentenceToNumpyInstance(input_str, embedder):\n",
    "    embeddings = embedder(_indicesForSentence(input_str))\n",
    "    if embeddings.shape == torch.Size([0]):\n",
    "        return np.zeros(EMBEDDING_SIZE)\n",
    "    else:\n",
    "        return torch.Tensor.numpy(embeddings.detach())\n",
    "    \n",
    "def word2vec_transform(data, embeddings, field = 'Lower Case Text'):\n",
    "    return np.array(data[field].apply(sentenceToNumpyInstance, embedder=embeddings).values.tolist())"
   ]
  },
  {
   "cell_type": "code",
   "execution_count": 136,
   "metadata": {},
   "outputs": [],
   "source": [
    "embs = word2vec_transform(data, word_embeddings)\n",
    "vec1 = embs[1085][0][0]\n",
    "vec2 = embs[1863][0][0]\n",
    "vec3 = embs[2370][0][0]\n",
    "vec4 = embs[5104][0][0]\n",
    "vec5 = embs[2434][0][0]"
   ]
  },
  {
   "cell_type": "code",
   "execution_count": 138,
   "metadata": {},
   "outputs": [
    {
     "name": "stdout",
     "output_type": "stream",
     "text": [
      "(300,)\n"
     ]
    },
    {
     "data": {
      "text/plain": [
       "array([-0.43843934, -0.09818707,  1.3158572 ,  0.9128408 ,  0.46605697,\n",
       "        1.0777041 ,  1.9287813 ,  0.14863594, -1.4529505 , -0.12249486,\n",
       "        0.34946617, -1.0620553 ,  2.557192  ,  0.2123865 , -0.08571041,\n",
       "        0.22305785, -0.5896096 ,  0.24556938,  0.6374917 , -0.47145143,\n",
       "        0.6426228 , -0.12761506, -0.6758984 ,  0.87502176,  2.7325053 ,\n",
       "        2.0363767 ,  2.247457  , -0.13043375,  0.19006123, -0.20930056,\n",
       "       -2.2651403 ,  0.381606  , -1.1604207 ,  0.30691156,  1.5995992 ,\n",
       "       -0.28714013,  1.0616683 , -0.35061696,  0.6307013 , -0.33779967,\n",
       "        1.1452425 , -0.36800003,  1.5933403 , -0.3986118 ,  0.4159826 ,\n",
       "       -0.07821243,  0.5904195 ,  0.5439989 ,  0.3083627 , -0.4897643 ,\n",
       "        0.5538344 , -0.04134123,  0.27445847,  0.09681562, -0.7612647 ,\n",
       "       -1.384283  ,  0.37279713,  0.9237863 ,  2.6890333 ,  0.56924826,\n",
       "       -0.9775836 ,  0.46202618, -1.4780678 , -0.45091352,  1.0322769 ,\n",
       "        1.1709664 ,  0.57953155,  0.86593497, -1.5641506 ,  0.7698687 ,\n",
       "        0.44165164, -0.64651144,  0.7375608 ,  0.09788781, -2.0805452 ,\n",
       "        0.5422914 ,  1.4855571 , -0.0808329 , -1.0723759 ,  0.23430718,\n",
       "        0.39613464,  0.46677595, -0.22633621, -1.9344707 ,  0.40094283,\n",
       "       -1.209749  , -1.3363998 ,  0.79852253,  0.35238257,  1.6821626 ,\n",
       "        0.46875829, -1.0681452 ,  0.24541605, -0.3829447 , -0.48086673,\n",
       "       -1.117779  ,  0.38119602, -0.14294943,  0.28911197, -0.74021375,\n",
       "        0.22855267, -1.0121523 , -1.3717253 ,  1.1816635 , -0.8992941 ,\n",
       "        0.74800986,  0.83081615,  0.5864387 , -1.8523042 , -0.43821743,\n",
       "        2.771774  ,  1.2563559 ,  2.7419653 , -0.4802275 , -0.55799615,\n",
       "        1.4055712 ,  0.68569994, -1.1504637 , -0.10156574,  0.43316537,\n",
       "        0.402228  , -0.30943397, -0.27303392, -0.40981695,  0.7335394 ,\n",
       "       -0.42325652,  0.33617818, -1.831036  ,  0.892519  , -0.88351434,\n",
       "       -1.0306123 ,  0.6540335 ,  1.0594544 , -0.4239303 , -0.299366  ,\n",
       "        1.3128636 , -0.19914427, -0.3458928 ,  1.3853909 ,  0.05101269,\n",
       "       -1.2284875 , -1.3575898 ,  0.4265508 , -0.82835656, -1.141622  ,\n",
       "       -1.1982051 ,  0.6682035 ,  1.1055871 ,  0.18674235,  1.0694937 ,\n",
       "        0.41443914, -0.07601228,  0.02489744,  0.00567513,  0.9527272 ,\n",
       "        0.72695464, -0.68452996,  0.60916317, -0.14796706, -1.4182682 ,\n",
       "        0.26127374, -0.28905797,  0.38454905, -2.890741  ,  0.3223066 ,\n",
       "       -0.9587369 , -0.5532193 , -0.9764251 ,  0.98684525, -0.46987864,\n",
       "        0.09722111, -0.26266003,  1.3031949 , -0.98123497, -0.88552094,\n",
       "       -0.605015  , -1.5079643 ,  0.9378983 ,  0.69328696, -1.8075418 ,\n",
       "       -0.24235861, -0.7566682 ,  0.12014217, -0.51683956, -0.16126609,\n",
       "       -0.6802052 ,  0.18992446, -1.5038236 ,  0.10339481,  0.17274262,\n",
       "       -1.5240023 , -0.24492338, -2.9537644 ,  0.2014993 ,  0.16933574,\n",
       "       -1.7866988 , -0.24469504, -0.16879883,  2.5009432 ,  0.46863416,\n",
       "       -1.4097507 ,  0.5846954 , -0.8169678 , -0.5364098 ,  0.20548612,\n",
       "       -0.8560995 ,  0.11060175,  0.31267133,  0.8105224 , -0.04959109,\n",
       "       -0.1115769 , -1.2071884 ,  0.2748358 ,  1.3452913 , -0.02395234,\n",
       "       -0.53351647, -1.5309217 , -0.41772196,  1.6643486 , -0.69534683,\n",
       "       -1.5641488 ,  1.175883  ,  0.0864628 ,  0.2063419 , -1.0498118 ,\n",
       "       -2.1175191 ,  0.14474984,  0.70033956,  0.00673912,  0.05578949,\n",
       "        1.393613  , -0.95087636,  0.38257447, -2.375398  ,  0.8243335 ,\n",
       "       -0.5008223 , -0.88778514, -1.4076633 ,  0.7736626 , -0.8227176 ,\n",
       "       -0.01305776,  0.42738   ,  0.2176865 , -0.84111536, -0.3803137 ,\n",
       "        0.10645774, -0.33046287,  0.7806499 ,  0.3909076 ,  1.5891868 ,\n",
       "        0.8598148 ,  0.31708962, -1.2457964 , -0.0486951 , -1.0522329 ,\n",
       "       -0.3505018 ,  1.8994997 ,  0.38025218, -0.83334684,  0.67904216,\n",
       "        1.1147118 ,  0.3253328 ,  0.05902642, -0.60994303, -0.40202776,\n",
       "        1.6448147 ,  2.3602574 , -1.91196   ,  0.03332556,  0.73621184,\n",
       "       -0.13313468,  0.10096321,  1.1712954 , -0.5024842 , -0.39095932,\n",
       "       -0.34635618,  0.31006825,  1.1674556 , -0.32215953,  0.7983341 ,\n",
       "       -0.00955093, -1.139161  ,  0.6142084 , -1.5901738 ,  0.04854288,\n",
       "       -0.12588239,  0.12211002, -0.27617642,  0.5302838 ,  0.69878817,\n",
       "        0.3075067 , -1.0373498 , -1.4093457 ,  1.428868  , -0.32680205,\n",
       "        0.97046965, -1.6179717 , -1.31488   ,  0.756195  ,  2.0887184 ],\n",
       "      dtype=float32)"
      ]
     },
     "execution_count": 138,
     "metadata": {},
     "output_type": "execute_result"
    }
   ],
   "source": [
    "print(vec1.shape)\n",
    "vec1"
   ]
  },
  {
   "cell_type": "code",
   "execution_count": 143,
   "metadata": {
    "scrolled": true
   },
   "outputs": [],
   "source": [
    "import umap\n",
    "import matplotlib.pyplot as plt\n",
    "from sklearn.datasets import load_digits\n",
    "%matplotlib inline\n",
    "\n",
    "reducer = umap.UMAP()\n",
    "\n",
    "vec1 = vec1.reshape(-1,1)\n",
    "vec2 = vec2.reshape(-1,1)\n",
    "vec3 = vec3.reshape(-1,1)\n",
    "vec4 = vec4.reshape(-1,1)\n",
    "vec5 = vec5.reshape(-1,1)\n",
    "\n",
    "embedding1 = reducer.fit_transform(vec1)\n",
    "embedding2 = reducer.fit_transform(vec2)\n",
    "embedding3 = reducer.fit_transform(vec3)\n",
    "embedding4 = reducer.fit_transform(vec4)\n",
    "embedding5 = reducer.fit_transform(vec5)"
   ]
  },
  {
   "cell_type": "code",
   "execution_count": 144,
   "metadata": {},
   "outputs": [
    {
     "data": {
      "text/plain": [
       "<matplotlib.collections.PathCollection at 0x1a3326ac50>"
      ]
     },
     "execution_count": 144,
     "metadata": {},
     "output_type": "execute_result"
    },
    {
     "data": {
      "image/png": "[encoded data removed]",
      "text/plain": [
       "<Figure size 432x288 with 1 Axes>"
      ]
     },
     "metadata": {},
     "output_type": "display_data"
    }
   ],
   "source": [
    "plt.scatter(embedding1[:,0], embedding1[:,1])\n",
    "plt.scatter(embedding2[:,0], embedding2[:,1])\n",
    "plt.scatter(embedding3[:,0], embedding3[:,1])\n",
    "plt.scatter(embedding4[:,0], embedding4[:,1])\n",
    "plt.scatter(embedding5[:,0], embedding5[:,1])"
   ]
  },
  {
   "cell_type": "code",
   "execution_count": null,
   "metadata": {},
   "outputs": [],
   "source": []
  }
 ],
 "metadata": {
  "kernelspec": {
   "display_name": "Python 3",
   "language": "python",
   "name": "python3"
  },
  "language_info": {
   "codemirror_mode": {
    "name": "ipython",
    "version": 3
   },
   "file_extension": ".py",
   "mimetype": "text/x-python",
   "name": "python",
   "nbconvert_exporter": "python",
   "pygments_lexer": "ipython3",
   "version": "3.6.4"
  }
 },
 "nbformat": 4,
 "nbformat_minor": 2
}
